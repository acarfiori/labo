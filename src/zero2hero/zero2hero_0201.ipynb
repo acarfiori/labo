{
 "cells": [
  {
   "cell_type": "markdown",
   "metadata": {},
   "source": [
    "# Zero to Hero"
   ]
  },
  {
   "cell_type": "markdown",
   "metadata": {},
   "source": [
    "## 2.01 Optimizacion Bayesiana"
   ]
  },
  {
   "cell_type": "raw",
   "metadata": {},
   "source": [
    "El objetivo es mostrar como funciona la Optimizacion Bayesiana en el caso mas simple : una funcion univariada"
   ]
  },
  {
   "cell_type": "markdown",
   "metadata": {},
   "source": [
    "### Advertencia"
   ]
  },
  {
   "cell_type": "markdown",
   "metadata": {},
   "source": [
    "El uso del método de Optimización Bayesiana para la optimización de hiperparámetros en modelos predictivos tiene menos de una década.\n",
    "Entender los fundamentos de la O.B. requieren de una sólida formación matemática y **no** son el objetivo de esta asignatura.\n",
    "Para quienes deseen aventurarse a los detalles técnicos:\n",
    "* El paper original de la libreria mlrMBO (año 2018 )   https://arxiv.org/pdf/1703.03373.pdf\n",
    "* El método de Kriging , tal cual se deriva del uso original, en este pequeño libro de 106 páginas \"Basic Steps in Geostatistics: The Variogram and Kriging\" https://www.pdfdrive.com/basic-steps-in-geostatistics-the-variogram-and-kriging-e187336318.html"
   ]
  },
  {
   "cell_type": "markdown",
   "metadata": {},
   "source": [
    "### El código"
   ]
  },
  {
   "cell_type": "code",
   "execution_count": 1,
   "metadata": {
    "tags": [],
    "vscode": {
     "languageId": "r"
    }
   },
   "outputs": [
    {
     "data": {
      "text/html": [
       "<table class=\"dataframe\">\n",
       "<caption>A matrix: 2 × 6 of type dbl</caption>\n",
       "<thead>\n",
       "\t<tr><th></th><th scope=col>used</th><th scope=col>(Mb)</th><th scope=col>gc trigger</th><th scope=col>(Mb)</th><th scope=col>max used</th><th scope=col>(Mb)</th></tr>\n",
       "</thead>\n",
       "<tbody>\n",
       "\t<tr><th scope=row>Ncells</th><td> 614714</td><td>32.9</td><td>1321371</td><td>70.6</td><td>1321371</td><td>70.6</td></tr>\n",
       "\t<tr><th scope=row>Vcells</th><td>1093576</td><td> 8.4</td><td>8388608</td><td>64.0</td><td>1632151</td><td>12.5</td></tr>\n",
       "</tbody>\n",
       "</table>\n"
      ],
      "text/latex": [
       "A matrix: 2 × 6 of type dbl\n",
       "\\begin{tabular}{r|llllll}\n",
       "  & used & (Mb) & gc trigger & (Mb) & max used & (Mb)\\\\\n",
       "\\hline\n",
       "\tNcells &  614714 & 32.9 & 1321371 & 70.6 & 1321371 & 70.6\\\\\n",
       "\tVcells & 1093576 &  8.4 & 8388608 & 64.0 & 1632151 & 12.5\\\\\n",
       "\\end{tabular}\n"
      ],
      "text/markdown": [
       "\n",
       "A matrix: 2 × 6 of type dbl\n",
       "\n",
       "| <!--/--> | used | (Mb) | gc trigger | (Mb) | max used | (Mb) |\n",
       "|---|---|---|---|---|---|---|\n",
       "| Ncells |  614714 | 32.9 | 1321371 | 70.6 | 1321371 | 70.6 |\n",
       "| Vcells | 1093576 |  8.4 | 8388608 | 64.0 | 1632151 | 12.5 |\n",
       "\n"
      ],
      "text/plain": [
       "       used    (Mb) gc trigger (Mb) max used (Mb)\n",
       "Ncells  614714 32.9 1321371    70.6 1321371  70.6\n",
       "Vcells 1093576  8.4 8388608    64.0 1632151  12.5"
      ]
     },
     "metadata": {},
     "output_type": "display_data"
    },
    {
     "name": "stderr",
     "output_type": "stream",
     "text": [
      "Loading required package: data.table\n",
      "\n",
      "Warning message:\n",
      "\"package 'data.table' was built under R version 4.2.3\"\n",
      "Loading required package: DiceKriging\n",
      "\n",
      "Warning message:\n",
      "\"package 'DiceKriging' was built under R version 4.2.3\"\n",
      "Loading required package: mlrMBO\n",
      "\n",
      "Warning message:\n",
      "\"package 'mlrMBO' was built under R version 4.2.3\"\n",
      "Loading required package: mlr\n",
      "\n",
      "Warning message:\n",
      "\"package 'mlr' was built under R version 4.2.3\"\n",
      "Loading required package: ParamHelpers\n",
      "\n",
      "Warning message:\n",
      "\"package 'ParamHelpers' was built under R version 4.2.3\"\n",
      "Warning message: 'mlr' is in 'maintenance-only' mode since July 2019.\n",
      "Future development will only happen in 'mlr3'\n",
      "(<https://mlr3.mlr-org.com>). Due to the focus on 'mlr3' there might be\n",
      "uncaught bugs meanwhile in {mlr} - please consider switching.\n",
      "\n",
      "Loading required package: smoof\n",
      "\n",
      "Warning message:\n",
      "\"package 'smoof' was built under R version 4.2.3\"\n",
      "Loading required package: checkmate\n",
      "\n",
      "\n",
      "Attaching package: 'checkmate'\n",
      "\n",
      "\n",
      "The following object is masked from 'package:DiceKriging':\n",
      "\n",
      "    checkNames\n",
      "\n",
      "\n"
     ]
    }
   ],
   "source": [
    "#Ejemplo de optimizacion bayesiana, univariada\n",
    "\n",
    "#limpio la memoria\n",
    "rm( list=ls() )  #remove all objects\n",
    "gc()             #garbage collection\n",
    "\n",
    "require(\"data.table\")\n",
    "#paquetes necesarios para la Bayesian Optimization\n",
    "require(\"DiceKriging\")\n",
    "require(\"mlrMBO\")\n",
    "\n",
    "options(repr.plot.width=20, repr.plot.height=10)"
   ]
  },
  {
   "cell_type": "markdown",
   "metadata": {},
   "source": [
    "### Defino la funcion a optimizar, un polinomio de grado 4"
   ]
  },
  {
   "cell_type": "code",
   "execution_count": 2,
   "metadata": {
    "tags": [],
    "vscode": {
     "languageId": "r"
    }
   },
   "outputs": [],
   "source": [
    "func_univariada01  <- function( x )\n",
    "{\n",
    "  y  <- -2 * (x+13) * (x-3) * (x-7) * (x-19)\n",
    "\n",
    "  return( y )\n",
    "}"
   ]
  },
  {
   "cell_type": "markdown",
   "metadata": {},
   "source": [
    "Grafico la funcion"
   ]
  },
  {
   "cell_type": "code",
   "execution_count": 3,
   "metadata": {
    "tags": [],
    "vscode": {
     "languageId": "r"
    }
   },
   "outputs": [
    {
     "data": {
      "image/png": "[encoded data removed]",
      "text/plain": [
       "plot without title"
      ]
     },
     "metadata": {
      "image/png": {
       "height": 600,
       "width": 1200
      }
     },
     "output_type": "display_data"
    }
   ],
   "source": [
    "intervalo  <- seq(-15,21,0.1)\n",
    "plot(intervalo, func_univariada01(intervalo))"
   ]
  },
  {
   "cell_type": "markdown",
   "metadata": {},
   "source": [
    "La funcion tiene dos máximos, uno de ellos es el global."
   ]
  },
  {
   "cell_type": "markdown",
   "metadata": {},
   "source": [
    "### Optimizacion Bayesiana"
   ]
  },
  {
   "cell_type": "markdown",
   "metadata": {},
   "source": [
    "¿Qué tan rápido encontrará la Optmización Bayesiana el máximo global?"
   ]
  },
  {
   "cell_type": "markdown",
   "metadata": {},
   "source": [
    "Defino las caracteristicas de la optimizacion"
   ]
  },
  {
   "cell_type": "markdown",
   "metadata": {},
   "source": [
    "* **fn**    es el nombre de la funcion\n",
    "* **minimize**   por defecto es TRUE,  pero en este caso le asigno FALSE, ya que deseo maximizar  el valor\n",
    "* **par.set**  indica cuales son los hiperparmetros de la funcion, en este caso hay una sola variable que llamé  x\n",
    "---\n",
    "* **makeNumericParam** indica que ese hiperparámetro es un numero real, una variable continua  ( no es ni un entero ni una categoria )"
   ]
  },
  {
   "cell_type": "code",
   "execution_count": 4,
   "metadata": {
    "tags": [],
    "vscode": {
     "languageId": "r"
    }
   },
   "outputs": [],
   "source": [
    "obj.fun  <- makeSingleObjectiveFunction(\n",
    "              fn=       func_univariada01,\n",
    "              minimize= FALSE,   #estoy Maximizando la ganancia\n",
    "              par.set=  makeParamSet(  makeNumericParam( \"x\", lower= -100, upper=  100) ),\n",
    "             )"
   ]
  },
  {
   "cell_type": "markdown",
   "metadata": {},
   "source": [
    "ahora defino la funcion proxy, la que se construye internamente intentando emular la realidad"
   ]
  },
  {
   "cell_type": "markdown",
   "metadata": {},
   "source": [
    "* **cl**  es la clase de learner,  \"reg.km\" indica el método de kriging \"**reg**ression **k**riging **m**ethodd\"\n",
    "* **predict.type**  es el tipo de prediccion que deseo me devuelva, \"se\" significa que espero dos valores  media y standard error\n",
    "* **covtype**    es la funcion de covarianza que se va a utilizar, cual es la covarianza de dos mediciones como fucion de la distancia entre los puntos donde fueron tomadas las mediciones, fue inventada por Bertil Matérn "
   ]
  },
  {
   "cell_type": "markdown",
   "metadata": {},
   "source": [
    "El método de kriging puede verse en su forma original (la geología) , esta presentación https://www.youtube.com/watch?v=ZB7GvJrNKq0"
   ]
  },
  {
   "cell_type": "code",
   "execution_count": 5,
   "metadata": {
    "tags": [],
    "vscode": {
     "languageId": "r"
    }
   },
   "outputs": [],
   "source": [
    "fproxy  <- makeLearner( cl= \"regr.km\",\n",
    "                        predict.type= \"se\", \n",
    "                        covtype= \"matern3_2\" )"
   ]
  },
  {
   "cell_type": "markdown",
   "metadata": {},
   "source": [
    "ultima definicion,  especificar la optimizacion bayesiana\n",
    "*  **crit**   indica el criterio con el que se completan los valores iniciales \"no inteligentes\"\n",
    "*  **iters**  indica la cantidad de iteraciones inteligentes que hará la Optimizacion Bayesiana, las que son adicionales a las primeras cuatro de este caso.*  **iters**  indica la cantidad de iteraciones inteligentes que hará la Optimizacion Bayesiana, las que son adicionales a las primeras cuatro de este caso."
   ]
  },
  {
   "cell_type": "code",
   "execution_count": 6,
   "metadata": {
    "tags": [],
    "vscode": {
     "languageId": "r"
    }
   },
   "outputs": [],
   "source": [
    "ctrl  <- makeMBOControl()\n",
    "ctrl  <- setMBOControlInfill( ctrl, crit= makeMBOInfillCritEI())\n",
    "ctrl  <- setMBOControlTermination( ctrl, iters= 25 )"
   ]
  },
  {
   "cell_type": "markdown",
   "metadata": {},
   "source": [
    "finalmente , lanzo la Optimizacion Bayesiana"
   ]
  },
  {
   "cell_type": "markdown",
   "metadata": {},
   "source": [
    "* **fun**  es la especificacion de la funcion que deseo optimizar, si maximizo o minimizo, cuales son las variables de la misma\n",
    "* **learner**  especifica cual es la función proxy interna que va a utilizar la Optimziación Bayesiana\n",
    "* **control**  indica la la forma en que se harán las iteraciones"
   ]
  },
  {
   "cell_type": "code",
   "execution_count": 7,
   "metadata": {
    "tags": [],
    "vscode": {
     "languageId": "r"
    }
   },
   "outputs": [
    {
     "name": "stderr",
     "output_type": "stream",
     "text": [
      "Computing y column(s) for design. Not provided.\n",
      "\n",
      "[mbo] 0: x=-61.8 : y = -3.51e+07 : 0.0 secs : initdesign\n",
      "\n",
      "[mbo] 0: x=31 : y = -7.04e+05 : 0.0 secs : initdesign\n",
      "\n",
      "[mbo] 0: x=67.8 : y = -3.11e+07 : 0.0 secs : initdesign\n",
      "\n",
      "[mbo] 0: x=-13.4 : y = -9.76e+03 : 0.0 secs : initdesign\n",
      "\n"
     ]
    },
    {
     "name": "stdout",
     "output_type": "stream",
     "text": [
      "\n",
      "optimisation start\n",
      "------------------\n",
      "* estimation method   : MLE \n",
      "* optimisation method : BFGS \n",
      "* analytical gradient : used\n",
      "* trend model : ~1\n",
      "* covariance model : \n",
      "  - type :  matern3_2 \n",
      "  - nugget : NO\n",
      "  - parameters lower bounds :  1e-10 \n",
      "  - parameters upper bounds :  259.1497 \n",
      "  - best initial criterion value(s) :  -72.20487 \n",
      "\n",
      "N = 1, M = 5 machine precision = 2.22045e-16\n",
      "At X0, 0 variables are exactly at the bounds\n",
      "At iterate     0  f=       72.205  |proj g|=     0.014127\n",
      "At iterate     1  f =       72.205  |proj g|=      0.014114\n",
      "At iterate     2  f =       72.133  |proj g|=    4.6878e-29\n",
      "Bad direction in the line search;\n",
      "   refresh the lbfgs memory and restart the iteration.\n",
      "Derivative >= 0, backtracking line search impossible.final  value 72.133121 \n",
      "stopped after 2 iterations\n"
     ]
    },
    {
     "name": "stderr",
     "output_type": "stream",
     "text": [
      "[mbo] 1: x=-14 : y = -2.42e+04 : 0.0 secs : infill_ei\n",
      "\n"
     ]
    },
    {
     "name": "stdout",
     "output_type": "stream",
     "text": [
      "\n",
      "optimisation start\n",
      "------------------\n",
      "* estimation method   : MLE \n",
      "* optimisation method : BFGS \n",
      "* analytical gradient : used\n",
      "* trend model : ~1\n",
      "* covariance model : \n",
      "  - type :  matern3_2 \n",
      "  - nugget : NO\n",
      "  - parameters lower bounds :  1e-10 \n",
      "  - parameters upper bounds :  259.1497 \n",
      "  - best initial criterion value(s) :  -86.69558 \n",
      "\n",
      "N = 1, M = 5 machine precision = 2.22045e-16\n",
      "At X0, 0 variables are exactly at the bounds\n",
      "At iterate     0  f=       86.696  |proj g|=    0.0076285\n",
      "At iterate     1  f =       86.696  |proj g|=     0.0076235\n",
      "At iterate     2  f =       86.671  |proj g|=     0.0055387\n",
      "At iterate     3  f =       86.663  |proj g|=     0.0016212\n",
      "At iterate     4  f =       86.662  |proj g|=     0.0002544\n",
      "At iterate     5  f =       86.662  |proj g|=    1.4739e-05\n",
      "At iterate     6  f =       86.662  |proj g|=     1.243e-07\n",
      "\n",
      "iterations 6\n",
      "function evaluations 7\n",
      "segments explored during Cauchy searches 6\n",
      "BFGS updates skipped 0\n",
      "active bounds at final generalized Cauchy point 0\n",
      "norm of the final projected gradient 1.24302e-07\n",
      "final function value 86.6616\n",
      "\n",
      "F = 86.6616\n",
      "final  value 86.661578 \n",
      "converged\n"
     ]
    },
    {
     "name": "stderr",
     "output_type": "stream",
     "text": [
      "[mbo] 2: x=13.2 : y = 1.91e+04 : 0.0 secs : infill_ei\n",
      "\n"
     ]
    },
    {
     "name": "stdout",
     "output_type": "stream",
     "text": [
      "\n",
      "optimisation start\n",
      "------------------\n",
      "* estimation method   : MLE \n",
      "* optimisation method : BFGS \n",
      "* analytical gradient : used\n",
      "* trend model : ~1\n",
      "* covariance model : \n",
      "  - type :  matern3_2 \n",
      "  - nugget : NO\n",
      "  - parameters lower bounds :  1e-10 \n",
      "  - parameters upper bounds :  259.1497 \n",
      "  - best initial criterion value(s) :  -103.4281 \n",
      "\n",
      "N = 1, M = 5 machine precision = 2.22045e-16\n",
      "At X0, 0 variables are exactly at the bounds\n",
      "At iterate     0  f=       103.43  |proj g|=    0.0047023\n",
      "At iterate     1  f =       103.43  |proj g|=     0.0047002\n",
      "At iterate     2  f =       103.41  |proj g|=     0.0024496\n",
      "At iterate     3  f =       103.41  |proj g|=    0.00065989\n",
      "At iterate     4  f =       103.41  |proj g|=    6.9936e-05\n",
      "At iterate     5  f =       103.41  |proj g|=    2.3096e-06\n",
      "At iterate     6  f =       103.41  |proj g|=    7.7546e-09\n",
      "\n",
      "iterations 6\n",
      "function evaluations 7\n",
      "segments explored during Cauchy searches 6\n",
      "BFGS updates skipped 0\n",
      "active bounds at final generalized Cauchy point 0\n",
      "norm of the final projected gradient 7.75456e-09\n",
      "final function value 103.408\n",
      "\n",
      "F = 103.408\n",
      "final  value 103.407745 \n",
      "converged\n"
     ]
    },
    {
     "name": "stderr",
     "output_type": "stream",
     "text": [
      "[mbo] 3: x=22.4 : y = -7.19e+04 : 0.0 secs : infill_ei\n",
      "\n"
     ]
    },
    {
     "name": "stdout",
     "output_type": "stream",
     "text": [
      "\n",
      "optimisation start\n",
      "------------------\n",
      "* estimation method   : MLE \n",
      "* optimisation method : BFGS \n",
      "* analytical gradient : used\n",
      "* trend model : ~1\n",
      "* covariance model : \n",
      "  - type :  matern3_2 \n",
      "  - nugget : NO\n",
      "  - parameters lower bounds :  1e-10 \n",
      "  - parameters upper bounds :  259.1497 \n",
      "  - best initial criterion value(s) :  -118.8727 \n",
      "\n",
      "N = 1, M = 5 machine precision = 2.22045e-16\n",
      "At X0, 0 variables are exactly at the bounds\n",
      "At iterate     0  f=       118.87  |proj g|=    0.0038863\n",
      "At iterate     1  f =       118.87  |proj g|=     0.0038855\n",
      "At iterate     2  f =       118.85  |proj g|=     0.0030668\n",
      "At iterate     3  f =       118.84  |proj g|=    0.00092749\n",
      "At iterate     4  f =       118.84  |proj g|=    0.00016592\n",
      "At iterate     5  f =       118.84  |proj g|=    1.1622e-05\n",
      "At iterate     6  f =       118.84  |proj g|=    1.3359e-07\n",
      "\n",
      "iterations 6\n",
      "function evaluations 7\n",
      "segments explored during Cauchy searches 6\n",
      "BFGS updates skipped 0\n",
      "active bounds at final generalized Cauchy point 0\n",
      "norm of the final projected gradient 1.33593e-07\n",
      "final function value 118.843\n",
      "\n",
      "F = 118.843\n",
      "final  value 118.843258 \n",
      "converged\n"
     ]
    },
    {
     "name": "stderr",
     "output_type": "stream",
     "text": [
      "[mbo] 4: x=0.632 : y = 7.55e+03 : 0.0 secs : infill_ei\n",
      "\n"
     ]
    },
    {
     "name": "stdout",
     "output_type": "stream",
     "text": [
      "\n",
      "optimisation start\n",
      "------------------\n",
      "* estimation method   : MLE \n",
      "* optimisation method : BFGS \n",
      "* analytical gradient : used\n",
      "* trend model : ~1\n",
      "* covariance model : \n",
      "  - type :  matern3_2 \n",
      "  - nugget : NO\n",
      "  - parameters lower bounds :  1e-10 \n",
      "  - parameters upper bounds :  259.1497 \n",
      "  - best initial criterion value(s) :  -134.2129 \n",
      "\n",
      "N = 1, M = 5 machine precision = 2.22045e-16\n",
      "At X0, 0 variables are exactly at the bounds\n",
      "At iterate     0  f=       134.21  |proj g|=    1.371e-06\n",
      "At iterate     1  f =       134.21  |proj g|=    1.3707e-06\n",
      "\n",
      "iterations 1\n",
      "function evaluations 2\n",
      "segments explored during Cauchy searches 1\n",
      "BFGS updates skipped 0\n",
      "active bounds at final generalized Cauchy point 0\n",
      "norm of the final projected gradient 1.37069e-06\n",
      "final function value 134.213\n",
      "\n",
      "F = 134.213\n",
      "final  value 134.212935 \n",
      "converged\n"
     ]
    },
    {
     "name": "stderr",
     "output_type": "stream",
     "text": [
      "[mbo] 5: x=-5.86 : y = 4.05e+04 : 0.0 secs : infill_ei\n",
      "\n"
     ]
    },
    {
     "name": "stdout",
     "output_type": "stream",
     "text": [
      "\n",
      "optimisation start\n",
      "------------------\n",
      "* estimation method   : MLE \n",
      "* optimisation method : BFGS \n",
      "* analytical gradient : used\n",
      "* trend model : ~1\n",
      "* covariance model : \n",
      "  - type :  matern3_2 \n",
      "  - nugget : NO\n",
      "  - parameters lower bounds :  1e-10 \n",
      "  - parameters upper bounds :  259.1497 \n",
      "  - best initial criterion value(s) :  -148.5204 \n",
      "\n",
      "N = 1, M = 5 machine precision = 2.22045e-16\n",
      "At X0, 0 variables are exactly at the bounds\n",
      "At iterate     0  f=       148.52  |proj g|=   0.00025776\n",
      "At iterate     1  f =       148.52  |proj g|=    0.00025772\n",
      "\n",
      "iterations 1\n",
      "function evaluations 2\n",
      "segments explored during Cauchy searches 1\n",
      "BFGS updates skipped 0\n",
      "active bounds at final generalized Cauchy point 0\n",
      "norm of the final projected gradient 0.000257721\n",
      "final function value 148.52\n",
      "\n",
      "F = 148.52\n",
      "final  value 148.520448 \n",
      "converged\n"
     ]
    },
    {
     "name": "stderr",
     "output_type": "stream",
     "text": [
      "[mbo] 6: x=7.13 : y = 261 : 0.0 secs : infill_ei\n",
      "\n"
     ]
    },
    {
     "name": "stdout",
     "output_type": "stream",
     "text": [
      "\n",
      "optimisation start\n",
      "------------------\n",
      "* estimation method   : MLE \n",
      "* optimisation method : BFGS \n",
      "* analytical gradient : used\n",
      "* trend model : ~1\n",
      "* covariance model : \n",
      "  - type :  matern3_2 \n",
      "  - nugget : NO\n",
      "  - parameters lower bounds :  1e-10 \n",
      "  - parameters upper bounds :  259.1497 \n",
      "  - best initial criterion value(s) :  -162.6147 \n",
      "\n",
      "N = 1, M = 5 machine precision = 2.22045e-16\n",
      "At X0, 0 variables are exactly at the bounds\n",
      "At iterate     0  f=       162.61  |proj g|=   0.00077188\n",
      "At iterate     1  f =       162.61  |proj g|=    0.00077178\n",
      "At iterate     2  f =       162.61  |proj g|=    6.4722e-05\n",
      "At iterate     3  f =       162.61  |proj g|=    6.0131e-06\n",
      "At iterate     4  f =       162.61  |proj g|=    5.2888e-08\n",
      "\n",
      "iterations 4\n",
      "function evaluations 5\n",
      "segments explored during Cauchy searches 4\n",
      "BFGS updates skipped 0\n",
      "active bounds at final generalized Cauchy point 0\n",
      "norm of the final projected gradient 5.28877e-08\n",
      "final function value 162.612\n",
      "\n",
      "F = 162.612\n",
      "final  value 162.612155 \n",
      "converged\n"
     ]
    },
    {
     "name": "stderr",
     "output_type": "stream",
     "text": [
      "[mbo] 7: x=17.4 : y = 1.43e+04 : 0.0 secs : infill_ei\n",
      "\n"
     ]
    },
    {
     "name": "stdout",
     "output_type": "stream",
     "text": [
      "\n",
      "optimisation start\n",
      "------------------\n",
      "* estimation method   : MLE \n",
      "* optimisation method : BFGS \n",
      "* analytical gradient : used\n",
      "* trend model : ~1\n",
      "* covariance model : \n",
      "  - type :  matern3_2 \n",
      "  - nugget : NO\n",
      "  - parameters lower bounds :  1e-10 \n",
      "  - parameters upper bounds :  259.1497 \n",
      "  - best initial criterion value(s) :  -176.1854 \n",
      "\n",
      "N = 1, M = 5 machine precision = 2.22045e-16\n",
      "At X0, 0 variables are exactly at the bounds\n",
      "At iterate     0  f=       176.19  |proj g|=   9.4276e-05\n",
      "At iterate     1  f =       176.19  |proj g|=    9.4269e-05\n",
      "\n",
      "iterations 1\n",
      "function evaluations 2\n",
      "segments explored during Cauchy searches 1\n",
      "BFGS updates skipped 0\n",
      "active bounds at final generalized Cauchy point 0\n",
      "norm of the final projected gradient 9.42694e-05\n",
      "final function value 176.185\n",
      "\n",
      "F = 176.185\n",
      "final  value 176.185377 \n",
      "converged\n"
     ]
    },
    {
     "name": "stderr",
     "output_type": "stream",
     "text": [
      "[mbo] 8: x=-9.17 : y = 4.25e+04 : 0.0 secs : infill_ei\n",
      "\n"
     ]
    },
    {
     "name": "stdout",
     "output_type": "stream",
     "text": [
      "\n",
      "optimisation start\n",
      "------------------\n",
      "* estimation method   : MLE \n",
      "* optimisation method : BFGS \n",
      "* analytical gradient : used\n",
      "* trend model : ~1\n",
      "* covariance model : \n",
      "  - type :  matern3_2 \n",
      "  - nugget : NO\n",
      "  - parameters lower bounds :  1e-10 \n",
      "  - parameters upper bounds :  259.1497 \n",
      "  - best initial criterion value(s) :  -189.2432 \n",
      "\n",
      "N = 1, M = 5 machine precision = 2.22045e-16\n",
      "At X0, 0 variables are exactly at the bounds\n",
      "At iterate     0  f=       189.24  |proj g|=   3.7457e-05\n",
      "At iterate     1  f =       189.24  |proj g|=    3.7455e-05\n",
      "\n",
      "iterations 1\n",
      "function evaluations 2\n",
      "segments explored during Cauchy searches 1\n",
      "BFGS updates skipped 0\n",
      "active bounds at final generalized Cauchy point 0\n",
      "norm of the final projected gradient 3.74551e-05\n",
      "final function value 189.243\n",
      "\n",
      "F = 189.243\n",
      "final  value 189.243232 \n",
      "converged\n"
     ]
    },
    {
     "name": "stderr",
     "output_type": "stream",
     "text": [
      "[mbo] 9: x=-2.71 : y = 2.48e+04 : 0.0 secs : infill_ei\n",
      "\n"
     ]
    },
    {
     "name": "stdout",
     "output_type": "stream",
     "text": [
      "\n",
      "optimisation start\n",
      "------------------\n",
      "* estimation method   : MLE \n",
      "* optimisation method : BFGS \n",
      "* analytical gradient : used\n",
      "* trend model : ~1\n",
      "* covariance model : \n",
      "  - type :  matern3_2 \n",
      "  - nugget : NO\n",
      "  - parameters lower bounds :  1e-10 \n",
      "  - parameters upper bounds :  259.1497 \n",
      "  - best initial criterion value(s) :  -202.1059 \n",
      "\n",
      "N = 1, M = 5 machine precision = 2.22045e-16\n",
      "At X0, 0 variables are exactly at the bounds\n",
      "At iterate     0  f=       202.11  |proj g|=   0.00063433\n",
      "At iterate     1  f =       202.11  |proj g|=    0.00063429\n",
      "\n",
      "iterations 1\n",
      "function evaluations 2\n",
      "segments explored during Cauchy searches 1\n",
      "BFGS updates skipped 0\n",
      "active bounds at final generalized Cauchy point 0\n",
      "norm of the final projected gradient 0.000634293\n",
      "final function value 202.106\n",
      "\n",
      "F = 202.106\n",
      "final  value 202.105918 \n",
      "converged\n"
     ]
    },
    {
     "name": "stderr",
     "output_type": "stream",
     "text": [
      "[mbo] 10: x=3.94 : y = -1.46e+03 : 0.0 secs : infill_ei\n",
      "\n"
     ]
    },
    {
     "name": "stdout",
     "output_type": "stream",
     "text": [
      "\n",
      "optimisation start\n",
      "------------------\n",
      "* estimation method   : MLE \n",
      "* optimisation method : BFGS \n",
      "* analytical gradient : used\n",
      "* trend model : ~1\n",
      "* covariance model : \n",
      "  - type :  matern3_2 \n",
      "  - nugget : NO\n",
      "  - parameters lower bounds :  1e-10 \n",
      "  - parameters upper bounds :  259.1497 \n",
      "  - best initial criterion value(s) :  -214.8966 \n",
      "\n",
      "N = 1, M = 5 machine precision = 2.22045e-16\n",
      "At X0, 0 variables are exactly at the bounds\n",
      "At iterate     0  f=        214.9  |proj g|=   0.00035186\n",
      "At iterate     1  f =        214.9  |proj g|=    0.00035185\n",
      "\n",
      "iterations 1\n",
      "function evaluations 2\n",
      "segments explored during Cauchy searches 1\n",
      "BFGS updates skipped 0\n",
      "active bounds at final generalized Cauchy point 0\n",
      "norm of the final projected gradient 0.000351853\n",
      "final function value 214.897\n",
      "\n",
      "F = 214.897\n",
      "final  value 214.896597 \n",
      "converged\n"
     ]
    },
    {
     "name": "stderr",
     "output_type": "stream",
     "text": [
      "[mbo] 11: x=10.3 : y = 9.75e+03 : 0.0 secs : infill_ei\n",
      "\n"
     ]
    },
    {
     "name": "stdout",
     "output_type": "stream",
     "text": [
      "\n",
      "optimisation start\n",
      "------------------\n",
      "* estimation method   : MLE \n",
      "* optimisation method : BFGS \n",
      "* analytical gradient : used\n",
      "* trend model : ~1\n",
      "* covariance model : \n",
      "  - type :  matern3_2 \n",
      "  - nugget : NO\n",
      "  - parameters lower bounds :  1e-10 \n",
      "  - parameters upper bounds :  259.1497 \n",
      "  - best initial criterion value(s) :  -227.499 \n",
      "\n",
      "N = 1, M = 5 machine precision = 2.22045e-16\n",
      "At X0, 0 variables are exactly at the bounds\n",
      "At iterate     0  f=        227.5  |proj g|=   1.0948e-05\n",
      "At iterate     1  f =        227.5  |proj g|=    1.0948e-05\n",
      "\n",
      "iterations 1\n",
      "function evaluations 7\n",
      "segments explored during Cauchy searches 1\n",
      "BFGS updates skipped 0\n",
      "active bounds at final generalized Cauchy point 0\n",
      "norm of the final projected gradient 1.0948e-05\n",
      "final function value 227.499\n",
      "\n",
      "F = 227.499\n",
      "final  value 227.498969 \n",
      "converged\n"
     ]
    },
    {
     "name": "stderr",
     "output_type": "stream",
     "text": [
      "[mbo] 12: x=26 : y = -2.36e+05 : 0.0 secs : infill_ei\n",
      "\n"
     ]
    },
    {
     "name": "stdout",
     "output_type": "stream",
     "text": [
      "\n",
      "optimisation start\n",
      "------------------\n",
      "* estimation method   : MLE \n",
      "* optimisation method : BFGS \n",
      "* analytical gradient : used\n",
      "* trend model : ~1\n",
      "* covariance model : \n",
      "  - type :  matern3_2 \n",
      "  - nugget : NO\n",
      "  - parameters lower bounds :  1e-10 \n",
      "  - parameters upper bounds :  259.1497 \n",
      "  - best initial criterion value(s) :  -240.7925 \n",
      "\n",
      "N = 1, M = 5 machine precision = 2.22045e-16\n",
      "At X0, 0 variables are exactly at the bounds\n",
      "At iterate     0  f=       240.79  |proj g|=    0.0010072\n",
      "At iterate     1  f =       240.79  |proj g|=     0.0010072\n",
      "At iterate     2  f =       240.78  |proj g|=             0\n",
      "\n",
      "iterations 2\n",
      "function evaluations 3\n",
      "segments explored during Cauchy searches 2\n",
      "BFGS updates skipped 0\n",
      "active bounds at final generalized Cauchy point 1\n",
      "norm of the final projected gradient 0\n",
      "final function value 240.781\n",
      "\n",
      "F = 240.781\n",
      "final  value 240.781312 \n",
      "converged\n"
     ]
    },
    {
     "name": "stderr",
     "output_type": "stream",
     "text": [
      "[mbo] 13: x=-7.56 : y = 4.44e+04 : 0.0 secs : infill_ei\n",
      "\n"
     ]
    },
    {
     "name": "stdout",
     "output_type": "stream",
     "text": [
      "\n",
      "optimisation start\n",
      "------------------\n",
      "* estimation method   : MLE \n",
      "* optimisation method : BFGS \n",
      "* analytical gradient : used\n",
      "* trend model : ~1\n",
      "* covariance model : \n",
      "  - type :  matern3_2 \n",
      "  - nugget : NO\n",
      "  - parameters lower bounds :  1e-10 \n",
      "  - parameters upper bounds :  259.1497 \n",
      "  - best initial criterion value(s) :  -252.5117 \n",
      "\n",
      "N = 1, M = 5 machine precision = 2.22045e-16\n",
      "At X0, 0 variables are exactly at the bounds\n",
      "At iterate     0  f=       252.51  |proj g|=    0.0012478\n",
      "At iterate     1  f =       252.51  |proj g|=     0.0012478\n",
      "At iterate     2  f =       252.51  |proj g|=             0\n",
      "\n",
      "iterations 2\n",
      "function evaluations 3\n",
      "segments explored during Cauchy searches 2\n",
      "BFGS updates skipped 0\n",
      "active bounds at final generalized Cauchy point 1\n",
      "norm of the final projected gradient 0\n",
      "final function value 252.507\n",
      "\n",
      "F = 252.507\n",
      "final  value 252.507407 \n",
      "converged\n"
     ]
    },
    {
     "name": "stderr",
     "output_type": "stream",
     "text": [
      "[mbo] 14: x=15.3 : y = 2.14e+04 : 0.0 secs : infill_ei\n",
      "\n"
     ]
    },
    {
     "name": "stdout",
     "output_type": "stream",
     "text": [
      "\n",
      "optimisation start\n",
      "------------------\n",
      "* estimation method   : MLE \n",
      "* optimisation method : BFGS \n",
      "* analytical gradient : used\n",
      "* trend model : ~1\n",
      "* covariance model : \n",
      "  - type :  matern3_2 \n",
      "  - nugget : NO\n",
      "  - parameters lower bounds :  1e-10 \n",
      "  - parameters upper bounds :  259.1497 \n",
      "  - best initial criterion value(s) :  -264.5757 \n",
      "\n",
      "N = 1, M = 5 machine precision = 2.22045e-16\n",
      "At X0, 0 variables are exactly at the bounds\n",
      "At iterate     0  f=       264.58  |proj g|=    0.0020985\n",
      "At iterate     1  f =       264.58  |proj g|=     0.0020984\n",
      "At iterate     2  f =       264.56  |proj g|=             0\n",
      "\n",
      "iterations 2\n",
      "function evaluations 3\n",
      "segments explored during Cauchy searches 2\n",
      "BFGS updates skipped 0\n",
      "active bounds at final generalized Cauchy point 1\n",
      "norm of the final projected gradient 0\n",
      "final function value 264.562\n",
      "\n",
      "F = 264.562\n",
      "final  value 264.562198 \n",
      "converged\n"
     ]
    },
    {
     "name": "stderr",
     "output_type": "stream",
     "text": [
      "[mbo] 15: x=-10.9 : y = 3.15e+04 : 0.0 secs : infill_ei\n",
      "\n"
     ]
    },
    {
     "name": "stdout",
     "output_type": "stream",
     "text": [
      "\n",
      "optimisation start\n",
      "------------------\n",
      "* estimation method   : MLE \n",
      "* optimisation method : BFGS \n",
      "* analytical gradient : used\n",
      "* trend model : ~1\n",
      "* covariance model : \n",
      "  - type :  matern3_2 \n",
      "  - nugget : NO\n",
      "  - parameters lower bounds :  1e-10 \n",
      "  - parameters upper bounds :  259.1497 \n",
      "  - best initial criterion value(s) :  -276.4036 \n",
      "\n",
      "N = 1, M = 5 machine precision = 2.22045e-16\n",
      "At X0, 0 variables are exactly at the bounds\n",
      "At iterate     0  f=        276.4  |proj g|=    0.0032348\n",
      "At iterate     1  f =        276.4  |proj g|=     0.0032346\n",
      "At iterate     2  f =       276.36  |proj g|=             0\n",
      "\n",
      "iterations 2\n",
      "function evaluations 3\n",
      "segments explored during Cauchy searches 2\n",
      "BFGS updates skipped 0\n",
      "active bounds at final generalized Cauchy point 1\n",
      "norm of the final projected gradient 0\n",
      "final function value 276.363\n",
      "\n",
      "F = 276.363\n",
      "final  value 276.362511 \n",
      "converged\n"
     ]
    },
    {
     "name": "stderr",
     "output_type": "stream",
     "text": [
      "[mbo] 16: x=-4.38 : y = 3.38e+04 : 0.0 secs : infill_ei\n",
      "\n"
     ]
    },
    {
     "name": "stdout",
     "output_type": "stream",
     "text": [
      "\n",
      "optimisation start\n",
      "------------------\n",
      "* estimation method   : MLE \n",
      "* optimisation method : BFGS \n",
      "* analytical gradient : used\n",
      "* trend model : ~1\n",
      "* covariance model : \n",
      "  - type :  matern3_2 \n",
      "  - nugget : NO\n",
      "  - parameters lower bounds :  1e-10 \n",
      "  - parameters upper bounds :  259.1497 \n",
      "  - best initial criterion value(s) :  -287.9089 \n",
      "\n",
      "N = 1, M = 5 machine precision = 2.22045e-16\n",
      "At X0, 0 variables are exactly at the bounds\n",
      "At iterate     0  f=       287.91  |proj g|=    0.0038301\n",
      "At iterate     1  f =       287.91  |proj g|=     0.0038299\n",
      "At iterate     2  f =       287.87  |proj g|=             0\n",
      "\n",
      "iterations 2\n",
      "function evaluations 3\n",
      "segments explored during Cauchy searches 2\n",
      "BFGS updates skipped 0\n",
      "active bounds at final generalized Cauchy point 1\n",
      "norm of the final projected gradient 0\n",
      "final function value 287.868\n",
      "\n",
      "F = 287.868\n",
      "final  value 287.867607 \n",
      "converged\n"
     ]
    },
    {
     "name": "stderr",
     "output_type": "stream",
     "text": [
      "[mbo] 17: x=19.6 : y = -8.02e+03 : 0.0 secs : infill_ei\n",
      "\n"
     ]
    },
    {
     "name": "stdout",
     "output_type": "stream",
     "text": [
      "\n",
      "optimisation start\n",
      "------------------\n",
      "* estimation method   : MLE \n",
      "* optimisation method : BFGS \n",
      "* analytical gradient : used\n",
      "* trend model : ~1\n",
      "* covariance model : \n",
      "  - type :  matern3_2 \n",
      "  - nugget : NO\n",
      "  - parameters lower bounds :  1e-10 \n",
      "  - parameters upper bounds :  259.1497 \n",
      "  - best initial criterion value(s) :  -300.129 \n",
      "\n",
      "N = 1, M = 5 machine precision = 2.22045e-16\n",
      "At X0, 0 variables are exactly at the bounds\n",
      "At iterate     0  f=       300.13  |proj g|=    0.0063685\n",
      "At iterate     1  f =       300.13  |proj g|=     0.0063679\n",
      "At iterate     2  f =       299.96  |proj g|=             0\n",
      "\n",
      "iterations 2\n",
      "function evaluations 3\n",
      "segments explored during Cauchy searches 2\n",
      "BFGS updates skipped 0\n",
      "active bounds at final generalized Cauchy point 1\n",
      "norm of the final projected gradient 0\n",
      "final function value 299.959\n",
      "\n",
      "F = 299.959\n",
      "final  value 299.958817 \n",
      "converged\n"
     ]
    },
    {
     "name": "stderr",
     "output_type": "stream",
     "text": [
      "[mbo] 18: x=-1.11 : y = 1.59e+04 : 0.0 secs : infill_ei\n",
      "\n"
     ]
    },
    {
     "name": "stdout",
     "output_type": "stream",
     "text": [
      "\n",
      "optimisation start\n",
      "------------------\n",
      "* estimation method   : MLE \n",
      "* optimisation method : BFGS \n",
      "* analytical gradient : used\n",
      "* trend model : ~1\n",
      "* covariance model : \n",
      "  - type :  matern3_2 \n",
      "  - nugget : NO\n",
      "  - parameters lower bounds :  1e-10 \n",
      "  - parameters upper bounds :  259.1497 \n",
      "  - best initial criterion value(s) :  -311.4985 \n",
      "\n",
      "N = 1, M = 5 machine precision = 2.22045e-16\n",
      "At X0, 0 variables are exactly at the bounds\n",
      "At iterate     0  f=        311.5  |proj g|=    0.0045966\n",
      "At iterate     1  f =        311.5  |proj g|=     0.0045963\n",
      "At iterate     2  f =       311.49  |proj g|=             0\n",
      "\n",
      "iterations 2\n",
      "function evaluations 3\n",
      "segments explored during Cauchy searches 2\n",
      "BFGS updates skipped 0\n",
      "active bounds at final generalized Cauchy point 1\n",
      "norm of the final projected gradient 0\n",
      "final function value 311.492\n",
      "\n",
      "F = 311.492\n",
      "final  value 311.491720 \n",
      "converged\n"
     ]
    },
    {
     "name": "stderr",
     "output_type": "stream",
     "text": [
      "[mbo] 19: x=-8.34 : y = 4.43e+04 : 0.0 secs : infill_ei\n",
      "\n"
     ]
    },
    {
     "name": "stdout",
     "output_type": "stream",
     "text": [
      "\n",
      "optimisation start\n",
      "------------------\n",
      "* estimation method   : MLE \n",
      "* optimisation method : BFGS \n",
      "* analytical gradient : used\n",
      "* trend model : ~1\n",
      "* covariance model : \n",
      "  - type :  matern3_2 \n",
      "  - nugget : NO\n",
      "  - parameters lower bounds :  1e-10 \n",
      "  - parameters upper bounds :  259.1497 \n",
      "  - best initial criterion value(s) :  -321.9914 \n",
      "\n",
      "N = 1, M = 5 machine precision = 2.22045e-16\n",
      "At X0, 0 variables are exactly at the bounds\n",
      "At iterate     0  f=       321.99  |proj g|=    0.0052837\n",
      "At iterate     1  f =       321.99  |proj g|=     0.0052834\n",
      "At iterate     2  f =       321.98  |proj g|=             0\n",
      "\n",
      "iterations 2\n",
      "function evaluations 3\n",
      "segments explored during Cauchy searches 2\n",
      "BFGS updates skipped 0\n",
      "active bounds at final generalized Cauchy point 1\n",
      "norm of the final projected gradient 0\n",
      "final function value 321.984\n",
      "\n",
      "F = 321.984\n",
      "final  value 321.983599 \n",
      "converged\n"
     ]
    },
    {
     "name": "stderr",
     "output_type": "stream",
     "text": [
      "[mbo] 20: x=-6.75 : y = 4.31e+04 : 0.0 secs : infill_ei\n",
      "\n"
     ]
    },
    {
     "name": "stdout",
     "output_type": "stream",
     "text": [
      "\n",
      "optimisation start\n",
      "------------------\n",
      "* estimation method   : MLE \n",
      "* optimisation method : BFGS \n",
      "* analytical gradient : used\n",
      "* trend model : ~1\n",
      "* covariance model : \n",
      "  - type :  matern3_2 \n",
      "  - nugget : NO\n",
      "  - parameters lower bounds :  1e-10 \n",
      "  - parameters upper bounds :  259.1497 \n",
      "  - best initial criterion value(s) :  -332.451 \n",
      "\n",
      "N = 1, M = 5 machine precision = 2.22045e-16\n",
      "At X0, 0 variables are exactly at the bounds\n",
      "At iterate     0  f=       332.45  |proj g|=     0.005953\n",
      "At iterate     1  f =       332.45  |proj g|=     0.0059525\n",
      "At iterate     2  f =       332.44  |proj g|=             0\n",
      "\n",
      "iterations 2\n",
      "function evaluations 3\n",
      "segments explored during Cauchy searches 2\n",
      "BFGS updates skipped 0\n",
      "active bounds at final generalized Cauchy point 1\n",
      "norm of the final projected gradient 0\n",
      "final function value 332.444\n",
      "\n",
      "F = 332.444\n",
      "final  value 332.443632 \n",
      "converged\n"
     ]
    },
    {
     "name": "stderr",
     "output_type": "stream",
     "text": [
      "[mbo] 21: x=-9.94 : y = 3.88e+04 : 0.0 secs : infill_ei\n",
      "\n"
     ]
    },
    {
     "name": "stdout",
     "output_type": "stream",
     "text": [
      "\n",
      "optimisation start\n",
      "------------------\n",
      "* estimation method   : MLE \n",
      "* optimisation method : BFGS \n",
      "* analytical gradient : used\n",
      "* trend model : ~1\n",
      "* covariance model : \n",
      "  - type :  matern3_2 \n",
      "  - nugget : NO\n",
      "  - parameters lower bounds :  1e-10 \n",
      "  - parameters upper bounds :  259.1497 \n",
      "  - best initial criterion value(s) :  -342.9458 \n",
      "\n",
      "N = 1, M = 5 machine precision = 2.22045e-16\n",
      "At X0, 0 variables are exactly at the bounds\n",
      "At iterate     0  f=       342.95  |proj g|=    0.0069893\n",
      "At iterate     1  f =       342.95  |proj g|=     0.0069887\n",
      "At iterate     2  f =       342.91  |proj g|=             0\n",
      "\n",
      "iterations 2\n",
      "function evaluations 3\n",
      "segments explored during Cauchy searches 2\n",
      "BFGS updates skipped 0\n",
      "active bounds at final generalized Cauchy point 1\n",
      "norm of the final projected gradient 0\n",
      "final function value 342.909\n",
      "\n",
      "F = 342.909\n",
      "final  value 342.908773 \n",
      "converged\n"
     ]
    },
    {
     "name": "stderr",
     "output_type": "stream",
     "text": [
      "[mbo] 22: x=11.8 : y = 1.5e+04 : 0.0 secs : infill_ei\n",
      "\n"
     ]
    },
    {
     "name": "stdout",
     "output_type": "stream",
     "text": [
      "\n",
      "optimisation start\n",
      "------------------\n",
      "* estimation method   : MLE \n",
      "* optimisation method : BFGS \n",
      "* analytical gradient : used\n",
      "* trend model : ~1\n",
      "* covariance model : \n",
      "  - type :  matern3_2 \n",
      "  - nugget : NO\n",
      "  - parameters lower bounds :  1e-10 \n",
      "  - parameters upper bounds :  259.1497 \n",
      "  - best initial criterion value(s) :  -354.2697 \n",
      "\n",
      "N = 1, M = 5 machine precision = 2.22045e-16\n",
      "At X0, 0 variables are exactly at the bounds\n",
      "At iterate     0  f=       354.27  |proj g|=    0.0083971\n",
      "At iterate     1  f =       354.27  |proj g|=     0.0083963\n",
      "At iterate     2  f =       354.17  |proj g|=             0\n",
      "\n",
      "iterations 2\n",
      "function evaluations 3\n",
      "segments explored during Cauchy searches 2\n",
      "BFGS updates skipped 0\n",
      "active bounds at final generalized Cauchy point 1\n",
      "norm of the final projected gradient 0\n",
      "final function value 354.17\n",
      "\n",
      "F = 354.17\n",
      "final  value 354.169742 \n",
      "converged\n"
     ]
    },
    {
     "name": "stderr",
     "output_type": "stream",
     "text": [
      "[mbo] 23: x=2.28 : y = 1.74e+03 : 0.0 secs : infill_ei\n",
      "\n"
     ]
    },
    {
     "name": "stdout",
     "output_type": "stream",
     "text": [
      "\n",
      "optimisation start\n",
      "------------------\n",
      "* estimation method   : MLE \n",
      "* optimisation method : BFGS \n",
      "* analytical gradient : used\n",
      "* trend model : ~1\n",
      "* covariance model : \n",
      "  - type :  matern3_2 \n",
      "  - nugget : NO\n",
      "  - parameters lower bounds :  1e-10 \n",
      "  - parameters upper bounds :  259.1497 \n",
      "  - best initial criterion value(s) :  -365.6244 \n",
      "\n",
      "N = 1, M = 5 machine precision = 2.22045e-16\n",
      "At X0, 0 variables are exactly at the bounds\n",
      "At iterate     0  f=       365.62  |proj g|=    0.0082865\n",
      "At iterate     1  f =       365.62  |proj g|=     0.0082858\n",
      "At iterate     2  f =       365.59  |proj g|=             0\n",
      "\n",
      "iterations 2\n",
      "function evaluations 3\n",
      "segments explored during Cauchy searches 2\n",
      "BFGS updates skipped 0\n",
      "active bounds at final generalized Cauchy point 1\n",
      "norm of the final projected gradient 0\n",
      "final function value 365.59\n",
      "\n",
      "F = 365.59\n",
      "final  value 365.590247 \n",
      "converged\n"
     ]
    },
    {
     "name": "stderr",
     "output_type": "stream",
     "text": [
      "[mbo] 24: x=8.72 : y = 4.41e+03 : 0.0 secs : infill_ei\n",
      "\n"
     ]
    },
    {
     "name": "stdout",
     "output_type": "stream",
     "text": [
      "\n",
      "optimisation start\n",
      "------------------\n",
      "* estimation method   : MLE \n",
      "* optimisation method : BFGS \n",
      "* analytical gradient : used\n",
      "* trend model : ~1\n",
      "* covariance model : \n",
      "  - type :  matern3_2 \n",
      "  - nugget : NO\n",
      "  - parameters lower bounds :  1e-10 \n",
      "  - parameters upper bounds :  259.1497 \n",
      "  - best initial criterion value(s) :  -376.9251 \n",
      "\n",
      "N = 1, M = 5 machine precision = 2.22045e-16\n",
      "At X0, 0 variables are exactly at the bounds\n",
      "At iterate     0  f=       376.93  |proj g|=    0.0086742\n",
      "At iterate     1  f =       376.93  |proj g|=     0.0086734\n",
      "At iterate     2  f =       376.92  |proj g|=             0\n",
      "\n",
      "iterations 2\n",
      "function evaluations 3\n",
      "segments explored during Cauchy searches 2\n",
      "BFGS updates skipped 0\n",
      "active bounds at final generalized Cauchy point 1\n",
      "norm of the final projected gradient 0\n",
      "final function value 376.916\n",
      "\n",
      "F = 376.916\n",
      "final  value 376.916347 \n",
      "converged\n"
     ]
    },
    {
     "name": "stderr",
     "output_type": "stream",
     "text": [
      "[mbo] 25: x=-7.95 : y = 4.46e+04 : 0.0 secs : infill_ei\n",
      "\n"
     ]
    },
    {
     "name": "stdout",
     "output_type": "stream",
     "text": [
      "\n",
      "optimisation start\n",
      "------------------\n",
      "* estimation method   : MLE \n",
      "* optimisation method : BFGS \n",
      "* analytical gradient : used\n",
      "* trend model : ~1\n",
      "* covariance model : \n",
      "  - type :  matern3_2 \n",
      "  - nugget : NO\n",
      "  - parameters lower bounds :  1e-10 \n",
      "  - parameters upper bounds :  259.1497 \n",
      "  - best initial criterion value(s) :  -386.3223 \n",
      "\n",
      "N = 1, M = 5 machine precision = 2.22045e-16\n",
      "At X0, 0 variables are exactly at the bounds\n",
      "At iterate     0  f=       386.32  |proj g|=     0.010609\n",
      "At iterate     1  f =       386.32  |proj g|=      0.010608\n",
      "At iterate     2  f =        386.2  |proj g|=             0\n",
      "\n",
      "iterations 2\n",
      "function evaluations 3\n",
      "segments explored during Cauchy searches 2\n",
      "BFGS updates skipped 0\n",
      "active bounds at final generalized Cauchy point 1\n",
      "norm of the final projected gradient 0\n",
      "final function value 386.199\n",
      "\n",
      "F = 386.199\n",
      "final  value 386.198616 \n",
      "converged\n"
     ]
    }
   ],
   "source": [
    "run  <- mbo( fun=      obj.fun, \n",
    "             learner= fproxy, \n",
    "             control= ctrl )"
   ]
  },
  {
   "cell_type": "code",
   "execution_count": 8,
   "metadata": {
    "tags": [],
    "vscode": {
     "languageId": "r"
    }
   },
   "outputs": [],
   "source": [
    "tb_resultados  <- as.data.table( run$opt.path )"
   ]
  },
  {
   "cell_type": "code",
   "execution_count": 9,
   "metadata": {
    "tags": [],
    "vscode": {
     "languageId": "r"
    }
   },
   "outputs": [
    {
     "data": {
      "text/html": [
       "<table class=\"dataframe\">\n",
       "<caption>A data.table: 29 × 13</caption>\n",
       "<thead>\n",
       "\t<tr><th scope=col>x</th><th scope=col>y</th><th scope=col>dob</th><th scope=col>eol</th><th scope=col>error.message</th><th scope=col>exec.time</th><th scope=col>ei</th><th scope=col>error.model</th><th scope=col>train.time</th><th scope=col>prop.type</th><th scope=col>propose.time</th><th scope=col>se</th><th scope=col>mean</th></tr>\n",
       "\t<tr><th scope=col>&lt;dbl&gt;</th><th scope=col>&lt;dbl&gt;</th><th scope=col>&lt;int&gt;</th><th scope=col>&lt;int&gt;</th><th scope=col>&lt;chr&gt;</th><th scope=col>&lt;dbl&gt;</th><th scope=col>&lt;dbl&gt;</th><th scope=col>&lt;chr&gt;</th><th scope=col>&lt;dbl&gt;</th><th scope=col>&lt;chr&gt;</th><th scope=col>&lt;dbl&gt;</th><th scope=col>&lt;dbl&gt;</th><th scope=col>&lt;dbl&gt;</th></tr>\n",
       "</thead>\n",
       "<tbody>\n",
       "\t<tr><td>-61.7574856</td><td>-3.506421e+07</td><td> 0</td><td>NA</td><td>NA</td><td>0.01</td><td>          NA</td><td>NA</td><td>  NA</td><td>initdesign</td><td>  NA</td><td>          NA</td><td>           NA</td></tr>\n",
       "\t<tr><td> 30.9559641</td><td>-7.039155e+05</td><td> 0</td><td>NA</td><td>NA</td><td>0.00</td><td>          NA</td><td>NA</td><td>  NA</td><td>initdesign</td><td>  NA</td><td>          NA</td><td>           NA</td></tr>\n",
       "\t<tr><td> 67.8173529</td><td>-3.110482e+07</td><td> 0</td><td>NA</td><td>NA</td><td>0.00</td><td>          NA</td><td>NA</td><td>  NA</td><td>initdesign</td><td>  NA</td><td>          NA</td><td>           NA</td></tr>\n",
       "\t<tr><td>-13.4471783</td><td>-9.759160e+03</td><td> 0</td><td>NA</td><td>NA</td><td>0.00</td><td>          NA</td><td>NA</td><td>  NA</td><td>initdesign</td><td>  NA</td><td>          NA</td><td>           NA</td></tr>\n",
       "\t<tr><td>-14.0233527</td><td>-2.418931e+04</td><td> 1</td><td>NA</td><td>NA</td><td>0.00</td><td>-2596849.049</td><td>NA</td><td>0.01</td><td>infill_ei </td><td>0.18</td><td>12053106.804</td><td>-5367986.5701</td></tr>\n",
       "\t<tr><td> 13.1512317</td><td> 1.910150e+04</td><td> 2</td><td>NA</td><td>NA</td><td>0.00</td><td>-3823211.927</td><td>NA</td><td>0.02</td><td>infill_ei </td><td>0.15</td><td> 8896560.955</td><td>  525397.4326</td></tr>\n",
       "\t<tr><td> 22.3988194</td><td>-7.188025e+04</td><td> 3</td><td>NA</td><td>NA</td><td>0.00</td><td>-1255426.451</td><td>NA</td><td>0.02</td><td>infill_ei </td><td>0.16</td><td> 2241908.414</td><td>  666990.5034</td></tr>\n",
       "\t<tr><td>  0.6315561</td><td> 7.553430e+03</td><td> 4</td><td>NA</td><td>NA</td><td>0.00</td><td> -886183.499</td><td>NA</td><td>0.01</td><td>infill_ei </td><td>0.14</td><td> 2129725.098</td><td>   91219.5534</td></tr>\n",
       "\t<tr><td> -5.8617039</td><td> 4.045490e+04</td><td> 5</td><td>NA</td><td>NA</td><td>0.00</td><td> -288523.284</td><td>NA</td><td>0.02</td><td>infill_ei </td><td>0.15</td><td>  710332.735</td><td>   29325.8327</td></tr>\n",
       "\t<tr><td>  7.1324137</td><td> 2.614718e+02</td><td> 6</td><td>NA</td><td>NA</td><td>0.00</td><td> -212817.688</td><td>NA</td><td>0.02</td><td>infill_ei </td><td>0.17</td><td>  556207.169</td><td>   22058.4501</td></tr>\n",
       "\t<tr><td> 17.4462662</td><td> 1.427767e+04</td><td> 7</td><td>NA</td><td>NA</td><td>0.00</td><td> -100776.363</td><td>NA</td><td>0.02</td><td>infill_ei </td><td>0.17</td><td>  326577.040</td><td>  -23551.8676</td></tr>\n",
       "\t<tr><td> -9.1725105</td><td> 4.245483e+04</td><td> 8</td><td>NA</td><td>NA</td><td>0.00</td><td>  -76600.292</td><td>NA</td><td>0.02</td><td>infill_ei </td><td>0.17</td><td>  194399.710</td><td>   38539.4316</td></tr>\n",
       "\t<tr><td> -2.7071741</td><td> 2.475608e+04</td><td> 9</td><td>NA</td><td>NA</td><td>0.00</td><td>  -54758.812</td><td>NA</td><td>0.01</td><td>infill_ei </td><td>0.16</td><td>  158603.982</td><td>   24626.0964</td></tr>\n",
       "\t<tr><td>  3.9373170</td><td>-1.464757e+03</td><td>10</td><td>NA</td><td>NA</td><td>0.00</td><td>  -40668.011</td><td>NA</td><td>0.01</td><td>infill_ei </td><td>0.18</td><td>  149935.302</td><td>    -779.5608</td></tr>\n",
       "\t<tr><td> 10.2961960</td><td> 9.752897e+03</td><td>11</td><td>NA</td><td>NA</td><td>0.00</td><td>  -33261.471</td><td>NA</td><td>0.01</td><td>infill_ei </td><td>0.17</td><td>  121012.977</td><td>    8688.9067</td></tr>\n",
       "\t<tr><td> 25.9650094</td><td>-2.363993e+05</td><td>12</td><td>NA</td><td>NA</td><td>0.00</td><td>  -23715.841</td><td>NA</td><td>0.02</td><td>infill_ei </td><td>0.17</td><td>  209955.085</td><td> -132869.4515</td></tr>\n",
       "\t<tr><td> -7.5605044</td><td> 4.443099e+04</td><td>13</td><td>NA</td><td>NA</td><td>0.00</td><td>  -21237.263</td><td>NA</td><td>0.01</td><td>infill_ei </td><td>0.21</td><td>   50132.431</td><td>   44882.5742</td></tr>\n",
       "\t<tr><td> 15.3214200</td><td> 2.136404e+04</td><td>14</td><td>NA</td><td>NA</td><td>0.00</td><td>  -17505.995</td><td>NA</td><td>0.03</td><td>infill_ei </td><td>0.15</td><td>   69580.146</td><td>   20738.2999</td></tr>\n",
       "\t<tr><td>-10.8767068</td><td> 3.147361e+04</td><td>15</td><td>NA</td><td>NA</td><td>0.00</td><td>  -14947.889</td><td>NA</td><td>0.02</td><td>infill_ei </td><td>0.17</td><td>   53877.873</td><td>   29752.9705</td></tr>\n",
       "\t<tr><td> -4.3795664</td><td> 3.384949e+04</td><td>16</td><td>NA</td><td>NA</td><td>0.00</td><td>  -11262.648</td><td>NA</td><td>0.00</td><td>infill_ei </td><td>0.17</td><td>   40098.369</td><td>   33856.2676</td></tr>\n",
       "\t<tr><td> 19.5891365</td><td>-8.019338e+03</td><td>17</td><td>NA</td><td>NA</td><td>0.00</td><td>  -10432.180</td><td>NA</td><td>0.00</td><td>infill_ei </td><td>0.16</td><td>   71957.337</td><td>   -5318.7011</td></tr>\n",
       "\t<tr><td> -1.1089041</td><td> 1.593413e+04</td><td>18</td><td>NA</td><td>NA</td><td>0.00</td><td>   -5968.505</td><td>NA</td><td>0.02</td><td>infill_ei </td><td>0.17</td><td>   41179.008</td><td>   15954.5470</td></tr>\n",
       "\t<tr><td> -8.3387251</td><td> 4.432681e+04</td><td>19</td><td>NA</td><td>NA</td><td>0.00</td><td>   -5723.122</td><td>NA</td><td>0.01</td><td>infill_ei </td><td>0.19</td><td>   14532.331</td><td>   44281.5006</td></tr>\n",
       "\t<tr><td> -6.7477383</td><td> 4.314608e+04</td><td>20</td><td>NA</td><td>NA</td><td>0.00</td><td>   -4993.351</td><td>NA</td><td>0.02</td><td>infill_ei </td><td>0.17</td><td>   14070.127</td><td>   43144.4608</td></tr>\n",
       "\t<tr><td> -9.9373742</td><td> 3.883965e+04</td><td>21</td><td>NA</td><td>NA</td><td>0.00</td><td>   -3334.207</td><td>NA</td><td>0.01</td><td>infill_ei </td><td>0.17</td><td>   14135.042</td><td>   38998.4196</td></tr>\n",
       "\t<tr><td> 11.7652864</td><td> 1.496752e+04</td><td>22</td><td>NA</td><td>NA</td><td>0.00</td><td>   -2919.515</td><td>NA</td><td>0.01</td><td>infill_ei </td><td>0.18</td><td>   31316.467</td><td>   14983.9808</td></tr>\n",
       "\t<tr><td>  2.2770470</td><td> 1.744641e+03</td><td>23</td><td>NA</td><td>NA</td><td>0.00</td><td>   -2226.176</td><td>NA</td><td>0.00</td><td>infill_ei </td><td>0.19</td><td>   36719.424</td><td>    1765.7857</td></tr>\n",
       "\t<tr><td>  8.7247659</td><td> 4.408235e+03</td><td>24</td><td>NA</td><td>NA</td><td>0.00</td><td>   -1882.258</td><td>NA</td><td>0.02</td><td>infill_ei </td><td>0.17</td><td>   33399.892</td><td>    4424.3542</td></tr>\n",
       "\t<tr><td> -7.9489738</td><td> 4.455912e+04</td><td>25</td><td>NA</td><td>NA</td><td>0.00</td><td>   -1789.719</td><td>NA</td><td>0.01</td><td>infill_ei </td><td>0.24</td><td>    4324.947</td><td>   44558.1327</td></tr>\n",
       "</tbody>\n",
       "</table>\n"
      ],
      "text/latex": [
       "A data.table: 29 × 13\n",
       "\\begin{tabular}{lllllllllllll}\n",
       " x & y & dob & eol & error.message & exec.time & ei & error.model & train.time & prop.type & propose.time & se & mean\\\\\n",
       " <dbl> & <dbl> & <int> & <int> & <chr> & <dbl> & <dbl> & <chr> & <dbl> & <chr> & <dbl> & <dbl> & <dbl>\\\\\n",
       "\\hline\n",
       "\t -61.7574856 & -3.506421e+07 &  0 & NA & NA & 0.01 &           NA & NA &   NA & initdesign &   NA &           NA &            NA\\\\\n",
       "\t  30.9559641 & -7.039155e+05 &  0 & NA & NA & 0.00 &           NA & NA &   NA & initdesign &   NA &           NA &            NA\\\\\n",
       "\t  67.8173529 & -3.110482e+07 &  0 & NA & NA & 0.00 &           NA & NA &   NA & initdesign &   NA &           NA &            NA\\\\\n",
       "\t -13.4471783 & -9.759160e+03 &  0 & NA & NA & 0.00 &           NA & NA &   NA & initdesign &   NA &           NA &            NA\\\\\n",
       "\t -14.0233527 & -2.418931e+04 &  1 & NA & NA & 0.00 & -2596849.049 & NA & 0.01 & infill\\_ei  & 0.18 & 12053106.804 & -5367986.5701\\\\\n",
       "\t  13.1512317 &  1.910150e+04 &  2 & NA & NA & 0.00 & -3823211.927 & NA & 0.02 & infill\\_ei  & 0.15 &  8896560.955 &   525397.4326\\\\\n",
       "\t  22.3988194 & -7.188025e+04 &  3 & NA & NA & 0.00 & -1255426.451 & NA & 0.02 & infill\\_ei  & 0.16 &  2241908.414 &   666990.5034\\\\\n",
       "\t   0.6315561 &  7.553430e+03 &  4 & NA & NA & 0.00 &  -886183.499 & NA & 0.01 & infill\\_ei  & 0.14 &  2129725.098 &    91219.5534\\\\\n",
       "\t  -5.8617039 &  4.045490e+04 &  5 & NA & NA & 0.00 &  -288523.284 & NA & 0.02 & infill\\_ei  & 0.15 &   710332.735 &    29325.8327\\\\\n",
       "\t   7.1324137 &  2.614718e+02 &  6 & NA & NA & 0.00 &  -212817.688 & NA & 0.02 & infill\\_ei  & 0.17 &   556207.169 &    22058.4501\\\\\n",
       "\t  17.4462662 &  1.427767e+04 &  7 & NA & NA & 0.00 &  -100776.363 & NA & 0.02 & infill\\_ei  & 0.17 &   326577.040 &   -23551.8676\\\\\n",
       "\t  -9.1725105 &  4.245483e+04 &  8 & NA & NA & 0.00 &   -76600.292 & NA & 0.02 & infill\\_ei  & 0.17 &   194399.710 &    38539.4316\\\\\n",
       "\t  -2.7071741 &  2.475608e+04 &  9 & NA & NA & 0.00 &   -54758.812 & NA & 0.01 & infill\\_ei  & 0.16 &   158603.982 &    24626.0964\\\\\n",
       "\t   3.9373170 & -1.464757e+03 & 10 & NA & NA & 0.00 &   -40668.011 & NA & 0.01 & infill\\_ei  & 0.18 &   149935.302 &     -779.5608\\\\\n",
       "\t  10.2961960 &  9.752897e+03 & 11 & NA & NA & 0.00 &   -33261.471 & NA & 0.01 & infill\\_ei  & 0.17 &   121012.977 &     8688.9067\\\\\n",
       "\t  25.9650094 & -2.363993e+05 & 12 & NA & NA & 0.00 &   -23715.841 & NA & 0.02 & infill\\_ei  & 0.17 &   209955.085 &  -132869.4515\\\\\n",
       "\t  -7.5605044 &  4.443099e+04 & 13 & NA & NA & 0.00 &   -21237.263 & NA & 0.01 & infill\\_ei  & 0.21 &    50132.431 &    44882.5742\\\\\n",
       "\t  15.3214200 &  2.136404e+04 & 14 & NA & NA & 0.00 &   -17505.995 & NA & 0.03 & infill\\_ei  & 0.15 &    69580.146 &    20738.2999\\\\\n",
       "\t -10.8767068 &  3.147361e+04 & 15 & NA & NA & 0.00 &   -14947.889 & NA & 0.02 & infill\\_ei  & 0.17 &    53877.873 &    29752.9705\\\\\n",
       "\t  -4.3795664 &  3.384949e+04 & 16 & NA & NA & 0.00 &   -11262.648 & NA & 0.00 & infill\\_ei  & 0.17 &    40098.369 &    33856.2676\\\\\n",
       "\t  19.5891365 & -8.019338e+03 & 17 & NA & NA & 0.00 &   -10432.180 & NA & 0.00 & infill\\_ei  & 0.16 &    71957.337 &    -5318.7011\\\\\n",
       "\t  -1.1089041 &  1.593413e+04 & 18 & NA & NA & 0.00 &    -5968.505 & NA & 0.02 & infill\\_ei  & 0.17 &    41179.008 &    15954.5470\\\\\n",
       "\t  -8.3387251 &  4.432681e+04 & 19 & NA & NA & 0.00 &    -5723.122 & NA & 0.01 & infill\\_ei  & 0.19 &    14532.331 &    44281.5006\\\\\n",
       "\t  -6.7477383 &  4.314608e+04 & 20 & NA & NA & 0.00 &    -4993.351 & NA & 0.02 & infill\\_ei  & 0.17 &    14070.127 &    43144.4608\\\\\n",
       "\t  -9.9373742 &  3.883965e+04 & 21 & NA & NA & 0.00 &    -3334.207 & NA & 0.01 & infill\\_ei  & 0.17 &    14135.042 &    38998.4196\\\\\n",
       "\t  11.7652864 &  1.496752e+04 & 22 & NA & NA & 0.00 &    -2919.515 & NA & 0.01 & infill\\_ei  & 0.18 &    31316.467 &    14983.9808\\\\\n",
       "\t   2.2770470 &  1.744641e+03 & 23 & NA & NA & 0.00 &    -2226.176 & NA & 0.00 & infill\\_ei  & 0.19 &    36719.424 &     1765.7857\\\\\n",
       "\t   8.7247659 &  4.408235e+03 & 24 & NA & NA & 0.00 &    -1882.258 & NA & 0.02 & infill\\_ei  & 0.17 &    33399.892 &     4424.3542\\\\\n",
       "\t  -7.9489738 &  4.455912e+04 & 25 & NA & NA & 0.00 &    -1789.719 & NA & 0.01 & infill\\_ei  & 0.24 &     4324.947 &    44558.1327\\\\\n",
       "\\end{tabular}\n"
      ],
      "text/markdown": [
       "\n",
       "A data.table: 29 × 13\n",
       "\n",
       "| x &lt;dbl&gt; | y &lt;dbl&gt; | dob &lt;int&gt; | eol &lt;int&gt; | error.message &lt;chr&gt; | exec.time &lt;dbl&gt; | ei &lt;dbl&gt; | error.model &lt;chr&gt; | train.time &lt;dbl&gt; | prop.type &lt;chr&gt; | propose.time &lt;dbl&gt; | se &lt;dbl&gt; | mean &lt;dbl&gt; |\n",
       "|---|---|---|---|---|---|---|---|---|---|---|---|---|\n",
       "| -61.7574856 | -3.506421e+07 |  0 | NA | NA | 0.01 |           NA | NA |   NA | initdesign |   NA |           NA |            NA |\n",
       "|  30.9559641 | -7.039155e+05 |  0 | NA | NA | 0.00 |           NA | NA |   NA | initdesign |   NA |           NA |            NA |\n",
       "|  67.8173529 | -3.110482e+07 |  0 | NA | NA | 0.00 |           NA | NA |   NA | initdesign |   NA |           NA |            NA |\n",
       "| -13.4471783 | -9.759160e+03 |  0 | NA | NA | 0.00 |           NA | NA |   NA | initdesign |   NA |           NA |            NA |\n",
       "| -14.0233527 | -2.418931e+04 |  1 | NA | NA | 0.00 | -2596849.049 | NA | 0.01 | infill_ei  | 0.18 | 12053106.804 | -5367986.5701 |\n",
       "|  13.1512317 |  1.910150e+04 |  2 | NA | NA | 0.00 | -3823211.927 | NA | 0.02 | infill_ei  | 0.15 |  8896560.955 |   525397.4326 |\n",
       "|  22.3988194 | -7.188025e+04 |  3 | NA | NA | 0.00 | -1255426.451 | NA | 0.02 | infill_ei  | 0.16 |  2241908.414 |   666990.5034 |\n",
       "|   0.6315561 |  7.553430e+03 |  4 | NA | NA | 0.00 |  -886183.499 | NA | 0.01 | infill_ei  | 0.14 |  2129725.098 |    91219.5534 |\n",
       "|  -5.8617039 |  4.045490e+04 |  5 | NA | NA | 0.00 |  -288523.284 | NA | 0.02 | infill_ei  | 0.15 |   710332.735 |    29325.8327 |\n",
       "|   7.1324137 |  2.614718e+02 |  6 | NA | NA | 0.00 |  -212817.688 | NA | 0.02 | infill_ei  | 0.17 |   556207.169 |    22058.4501 |\n",
       "|  17.4462662 |  1.427767e+04 |  7 | NA | NA | 0.00 |  -100776.363 | NA | 0.02 | infill_ei  | 0.17 |   326577.040 |   -23551.8676 |\n",
       "|  -9.1725105 |  4.245483e+04 |  8 | NA | NA | 0.00 |   -76600.292 | NA | 0.02 | infill_ei  | 0.17 |   194399.710 |    38539.4316 |\n",
       "|  -2.7071741 |  2.475608e+04 |  9 | NA | NA | 0.00 |   -54758.812 | NA | 0.01 | infill_ei  | 0.16 |   158603.982 |    24626.0964 |\n",
       "|   3.9373170 | -1.464757e+03 | 10 | NA | NA | 0.00 |   -40668.011 | NA | 0.01 | infill_ei  | 0.18 |   149935.302 |     -779.5608 |\n",
       "|  10.2961960 |  9.752897e+03 | 11 | NA | NA | 0.00 |   -33261.471 | NA | 0.01 | infill_ei  | 0.17 |   121012.977 |     8688.9067 |\n",
       "|  25.9650094 | -2.363993e+05 | 12 | NA | NA | 0.00 |   -23715.841 | NA | 0.02 | infill_ei  | 0.17 |   209955.085 |  -132869.4515 |\n",
       "|  -7.5605044 |  4.443099e+04 | 13 | NA | NA | 0.00 |   -21237.263 | NA | 0.01 | infill_ei  | 0.21 |    50132.431 |    44882.5742 |\n",
       "|  15.3214200 |  2.136404e+04 | 14 | NA | NA | 0.00 |   -17505.995 | NA | 0.03 | infill_ei  | 0.15 |    69580.146 |    20738.2999 |\n",
       "| -10.8767068 |  3.147361e+04 | 15 | NA | NA | 0.00 |   -14947.889 | NA | 0.02 | infill_ei  | 0.17 |    53877.873 |    29752.9705 |\n",
       "|  -4.3795664 |  3.384949e+04 | 16 | NA | NA | 0.00 |   -11262.648 | NA | 0.00 | infill_ei  | 0.17 |    40098.369 |    33856.2676 |\n",
       "|  19.5891365 | -8.019338e+03 | 17 | NA | NA | 0.00 |   -10432.180 | NA | 0.00 | infill_ei  | 0.16 |    71957.337 |    -5318.7011 |\n",
       "|  -1.1089041 |  1.593413e+04 | 18 | NA | NA | 0.00 |    -5968.505 | NA | 0.02 | infill_ei  | 0.17 |    41179.008 |    15954.5470 |\n",
       "|  -8.3387251 |  4.432681e+04 | 19 | NA | NA | 0.00 |    -5723.122 | NA | 0.01 | infill_ei  | 0.19 |    14532.331 |    44281.5006 |\n",
       "|  -6.7477383 |  4.314608e+04 | 20 | NA | NA | 0.00 |    -4993.351 | NA | 0.02 | infill_ei  | 0.17 |    14070.127 |    43144.4608 |\n",
       "|  -9.9373742 |  3.883965e+04 | 21 | NA | NA | 0.00 |    -3334.207 | NA | 0.01 | infill_ei  | 0.17 |    14135.042 |    38998.4196 |\n",
       "|  11.7652864 |  1.496752e+04 | 22 | NA | NA | 0.00 |    -2919.515 | NA | 0.01 | infill_ei  | 0.18 |    31316.467 |    14983.9808 |\n",
       "|   2.2770470 |  1.744641e+03 | 23 | NA | NA | 0.00 |    -2226.176 | NA | 0.00 | infill_ei  | 0.19 |    36719.424 |     1765.7857 |\n",
       "|   8.7247659 |  4.408235e+03 | 24 | NA | NA | 0.00 |    -1882.258 | NA | 0.02 | infill_ei  | 0.17 |    33399.892 |     4424.3542 |\n",
       "|  -7.9489738 |  4.455912e+04 | 25 | NA | NA | 0.00 |    -1789.719 | NA | 0.01 | infill_ei  | 0.24 |     4324.947 |    44558.1327 |\n",
       "\n"
      ],
      "text/plain": [
       "   x           y             dob eol error.message exec.time ei          \n",
       "1  -61.7574856 -3.506421e+07  0  NA  NA            0.01                NA\n",
       "2   30.9559641 -7.039155e+05  0  NA  NA            0.00                NA\n",
       "3   67.8173529 -3.110482e+07  0  NA  NA            0.00                NA\n",
       "4  -13.4471783 -9.759160e+03  0  NA  NA            0.00                NA\n",
       "5  -14.0233527 -2.418931e+04  1  NA  NA            0.00      -2596849.049\n",
       "6   13.1512317  1.910150e+04  2  NA  NA            0.00      -3823211.927\n",
       "7   22.3988194 -7.188025e+04  3  NA  NA            0.00      -1255426.451\n",
       "8    0.6315561  7.553430e+03  4  NA  NA            0.00       -886183.499\n",
       "9   -5.8617039  4.045490e+04  5  NA  NA            0.00       -288523.284\n",
       "10   7.1324137  2.614718e+02  6  NA  NA            0.00       -212817.688\n",
       "11  17.4462662  1.427767e+04  7  NA  NA            0.00       -100776.363\n",
       "12  -9.1725105  4.245483e+04  8  NA  NA            0.00        -76600.292\n",
       "13  -2.7071741  2.475608e+04  9  NA  NA            0.00        -54758.812\n",
       "14   3.9373170 -1.464757e+03 10  NA  NA            0.00        -40668.011\n",
       "15  10.2961960  9.752897e+03 11  NA  NA            0.00        -33261.471\n",
       "16  25.9650094 -2.363993e+05 12  NA  NA            0.00        -23715.841\n",
       "17  -7.5605044  4.443099e+04 13  NA  NA            0.00        -21237.263\n",
       "18  15.3214200  2.136404e+04 14  NA  NA            0.00        -17505.995\n",
       "19 -10.8767068  3.147361e+04 15  NA  NA            0.00        -14947.889\n",
       "20  -4.3795664  3.384949e+04 16  NA  NA            0.00        -11262.648\n",
       "21  19.5891365 -8.019338e+03 17  NA  NA            0.00        -10432.180\n",
       "22  -1.1089041  1.593413e+04 18  NA  NA            0.00         -5968.505\n",
       "23  -8.3387251  4.432681e+04 19  NA  NA            0.00         -5723.122\n",
       "24  -6.7477383  4.314608e+04 20  NA  NA            0.00         -4993.351\n",
       "25  -9.9373742  3.883965e+04 21  NA  NA            0.00         -3334.207\n",
       "26  11.7652864  1.496752e+04 22  NA  NA            0.00         -2919.515\n",
       "27   2.2770470  1.744641e+03 23  NA  NA            0.00         -2226.176\n",
       "28   8.7247659  4.408235e+03 24  NA  NA            0.00         -1882.258\n",
       "29  -7.9489738  4.455912e+04 25  NA  NA            0.00         -1789.719\n",
       "   error.model train.time prop.type  propose.time se           mean         \n",
       "1  NA            NA       initdesign   NA                   NA            NA\n",
       "2  NA            NA       initdesign   NA                   NA            NA\n",
       "3  NA            NA       initdesign   NA                   NA            NA\n",
       "4  NA            NA       initdesign   NA                   NA            NA\n",
       "5  NA          0.01       infill_ei  0.18         12053106.804 -5367986.5701\n",
       "6  NA          0.02       infill_ei  0.15          8896560.955   525397.4326\n",
       "7  NA          0.02       infill_ei  0.16          2241908.414   666990.5034\n",
       "8  NA          0.01       infill_ei  0.14          2129725.098    91219.5534\n",
       "9  NA          0.02       infill_ei  0.15           710332.735    29325.8327\n",
       "10 NA          0.02       infill_ei  0.17           556207.169    22058.4501\n",
       "11 NA          0.02       infill_ei  0.17           326577.040   -23551.8676\n",
       "12 NA          0.02       infill_ei  0.17           194399.710    38539.4316\n",
       "13 NA          0.01       infill_ei  0.16           158603.982    24626.0964\n",
       "14 NA          0.01       infill_ei  0.18           149935.302     -779.5608\n",
       "15 NA          0.01       infill_ei  0.17           121012.977     8688.9067\n",
       "16 NA          0.02       infill_ei  0.17           209955.085  -132869.4515\n",
       "17 NA          0.01       infill_ei  0.21            50132.431    44882.5742\n",
       "18 NA          0.03       infill_ei  0.15            69580.146    20738.2999\n",
       "19 NA          0.02       infill_ei  0.17            53877.873    29752.9705\n",
       "20 NA          0.00       infill_ei  0.17            40098.369    33856.2676\n",
       "21 NA          0.00       infill_ei  0.16            71957.337    -5318.7011\n",
       "22 NA          0.02       infill_ei  0.17            41179.008    15954.5470\n",
       "23 NA          0.01       infill_ei  0.19            14532.331    44281.5006\n",
       "24 NA          0.02       infill_ei  0.17            14070.127    43144.4608\n",
       "25 NA          0.01       infill_ei  0.17            14135.042    38998.4196\n",
       "26 NA          0.01       infill_ei  0.18            31316.467    14983.9808\n",
       "27 NA          0.00       infill_ei  0.19            36719.424     1765.7857\n",
       "28 NA          0.02       infill_ei  0.17            33399.892     4424.3542\n",
       "29 NA          0.01       infill_ei  0.24             4324.947    44558.1327"
      ]
     },
     "metadata": {},
     "output_type": "display_data"
    }
   ],
   "source": [
    "tb_resultados"
   ]
  },
  {
   "cell_type": "code",
   "execution_count": 10,
   "metadata": {
    "tags": [],
    "vscode": {
     "languageId": "r"
    }
   },
   "outputs": [
    {
     "data": {
      "text/html": [
       "<table class=\"dataframe\">\n",
       "<caption>A data.table: 1 × 13</caption>\n",
       "<thead>\n",
       "\t<tr><th scope=col>x</th><th scope=col>y</th><th scope=col>dob</th><th scope=col>eol</th><th scope=col>error.message</th><th scope=col>exec.time</th><th scope=col>ei</th><th scope=col>error.model</th><th scope=col>train.time</th><th scope=col>prop.type</th><th scope=col>propose.time</th><th scope=col>se</th><th scope=col>mean</th></tr>\n",
       "\t<tr><th scope=col>&lt;dbl&gt;</th><th scope=col>&lt;dbl&gt;</th><th scope=col>&lt;int&gt;</th><th scope=col>&lt;int&gt;</th><th scope=col>&lt;chr&gt;</th><th scope=col>&lt;dbl&gt;</th><th scope=col>&lt;dbl&gt;</th><th scope=col>&lt;chr&gt;</th><th scope=col>&lt;dbl&gt;</th><th scope=col>&lt;chr&gt;</th><th scope=col>&lt;dbl&gt;</th><th scope=col>&lt;dbl&gt;</th><th scope=col>&lt;dbl&gt;</th></tr>\n",
       "</thead>\n",
       "<tbody>\n",
       "\t<tr><td>-7.948974</td><td>44559.12</td><td>25</td><td>NA</td><td>NA</td><td>0</td><td>-1789.719</td><td>NA</td><td>0.01</td><td>infill_ei</td><td>0.24</td><td>4324.947</td><td>44558.13</td></tr>\n",
       "</tbody>\n",
       "</table>\n"
      ],
      "text/latex": [
       "A data.table: 1 × 13\n",
       "\\begin{tabular}{lllllllllllll}\n",
       " x & y & dob & eol & error.message & exec.time & ei & error.model & train.time & prop.type & propose.time & se & mean\\\\\n",
       " <dbl> & <dbl> & <int> & <int> & <chr> & <dbl> & <dbl> & <chr> & <dbl> & <chr> & <dbl> & <dbl> & <dbl>\\\\\n",
       "\\hline\n",
       "\t -7.948974 & 44559.12 & 25 & NA & NA & 0 & -1789.719 & NA & 0.01 & infill\\_ei & 0.24 & 4324.947 & 44558.13\\\\\n",
       "\\end{tabular}\n"
      ],
      "text/markdown": [
       "\n",
       "A data.table: 1 × 13\n",
       "\n",
       "| x &lt;dbl&gt; | y &lt;dbl&gt; | dob &lt;int&gt; | eol &lt;int&gt; | error.message &lt;chr&gt; | exec.time &lt;dbl&gt; | ei &lt;dbl&gt; | error.model &lt;chr&gt; | train.time &lt;dbl&gt; | prop.type &lt;chr&gt; | propose.time &lt;dbl&gt; | se &lt;dbl&gt; | mean &lt;dbl&gt; |\n",
       "|---|---|---|---|---|---|---|---|---|---|---|---|---|\n",
       "| -7.948974 | 44559.12 | 25 | NA | NA | 0 | -1789.719 | NA | 0.01 | infill_ei | 0.24 | 4324.947 | 44558.13 |\n",
       "\n"
      ],
      "text/plain": [
       "  x         y        dob eol error.message exec.time ei        error.model\n",
       "1 -7.948974 44559.12 25  NA  NA            0         -1789.719 NA         \n",
       "  train.time prop.type propose.time se       mean    \n",
       "1 0.01       infill_ei 0.24         4324.947 44558.13"
      ]
     },
     "metadata": {},
     "output_type": "display_data"
    }
   ],
   "source": [
    "tb_resultados[ which.max( tb_resultados$y ) ]"
   ]
  },
  {
   "cell_type": "markdown",
   "metadata": {},
   "source": [
    "### Conclusiones"
   ]
  },
  {
   "cell_type": "markdown",
   "metadata": {},
   "source": [
    "La gran pregunta es :  la Optimización Bayesiana, ¿se focaliza luego de muchas iteraciones solo en el entorno del máximo que está cerca de x= -8 ?"
   ]
  }
 ],
 "metadata": {
  "kernelspec": {
   "display_name": "R",
   "language": "R",
   "name": "ir"
  },
  "language_info": {
   "codemirror_mode": "r",
   "file_extension": ".r",
   "mimetype": "text/x-r-source",
   "name": "R",
   "pygments_lexer": "r",
   "version": "4.2.1"
  }
 },
 "nbformat": 4,
 "nbformat_minor": 4
}
