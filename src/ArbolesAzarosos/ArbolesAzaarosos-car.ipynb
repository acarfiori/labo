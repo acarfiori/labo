{
 "cells": [
  {
   "cell_type": "code",
   "execution_count": 1,
   "metadata": {
    "vscode": {
     "languageId": "r"
    }
   },
   "outputs": [
    {
     "data": {
      "text/html": [
       "<table class=\"dataframe\">\n",
       "<caption>A matrix: 2 × 6 of type dbl</caption>\n",
       "<thead>\n",
       "\t<tr><th></th><th scope=col>used</th><th scope=col>(Mb)</th><th scope=col>gc trigger</th><th scope=col>(Mb)</th><th scope=col>max used</th><th scope=col>(Mb)</th></tr>\n",
       "</thead>\n",
       "<tbody>\n",
       "\t<tr><th scope=row>Ncells</th><td> 614668</td><td>32.9</td><td>1321371</td><td>70.6</td><td>1321371</td><td>70.6</td></tr>\n",
       "\t<tr><th scope=row>Vcells</th><td>1093283</td><td> 8.4</td><td>8388608</td><td>64.0</td><td>1632151</td><td>12.5</td></tr>\n",
       "</tbody>\n",
       "</table>\n"
      ],
      "text/latex": [
       "A matrix: 2 × 6 of type dbl\n",
       "\\begin{tabular}{r|llllll}\n",
       "  & used & (Mb) & gc trigger & (Mb) & max used & (Mb)\\\\\n",
       "\\hline\n",
       "\tNcells &  614668 & 32.9 & 1321371 & 70.6 & 1321371 & 70.6\\\\\n",
       "\tVcells & 1093283 &  8.4 & 8388608 & 64.0 & 1632151 & 12.5\\\\\n",
       "\\end{tabular}\n"
      ],
      "text/markdown": [
       "\n",
       "A matrix: 2 × 6 of type dbl\n",
       "\n",
       "| <!--/--> | used | (Mb) | gc trigger | (Mb) | max used | (Mb) |\n",
       "|---|---|---|---|---|---|---|\n",
       "| Ncells |  614668 | 32.9 | 1321371 | 70.6 | 1321371 | 70.6 |\n",
       "| Vcells | 1093283 |  8.4 | 8388608 | 64.0 | 1632151 | 12.5 |\n",
       "\n"
      ],
      "text/plain": [
       "       used    (Mb) gc trigger (Mb) max used (Mb)\n",
       "Ncells  614668 32.9 1321371    70.6 1321371  70.6\n",
       "Vcells 1093283  8.4 8388608    64.0 1632151  12.5"
      ]
     },
     "metadata": {},
     "output_type": "display_data"
    }
   ],
   "source": [
    "#Ensemble de arboles de decision\n",
    "#utilizando el naif metodo de Arboles Azarosos\n",
    "#entreno cada arbol utilizando un subconjunto distinto de atributos del dataset\n",
    "\n",
    "#limpio la memoria\n",
    "rm( list=ls() )  #Borro todos los objetos\n",
    "gc()   #Garbage Collection"
   ]
  },
  {
   "cell_type": "code",
   "execution_count": 2,
   "metadata": {
    "vscode": {
     "languageId": "r"
    }
   },
   "outputs": [
    {
     "name": "stderr",
     "output_type": "stream",
     "text": [
      "Loading required package: data.table\n",
      "\n",
      "Warning message:\n",
      "\"package 'data.table' was built under R version 4.2.3\"\n",
      "Loading required package: rpart\n",
      "\n",
      "Warning message:\n",
      "\"package 'rpart' was built under R version 4.2.3\"\n"
     ]
    }
   ],
   "source": [
    "require(\"data.table\")\n",
    "require(\"rpart\")"
   ]
  },
  {
   "cell_type": "code",
   "execution_count": 4,
   "metadata": {
    "vscode": {
     "languageId": "r"
    }
   },
   "outputs": [],
   "source": [
    "#parmatros experimento\n",
    "PARAM <- list()\n",
    "PARAM$experimento  <- 7.3210\n",
    "PARAM$semilla  <- 604997      #Establezco la semilla aleatoria, cambiar por SU primer semilla"
   ]
  },
  {
   "cell_type": "code",
   "execution_count": 5,
   "metadata": {
    "vscode": {
     "languageId": "r"
    }
   },
   "outputs": [],
   "source": [
    "#parameetros rpart\n",
    "PARAM$rpart_param   <- list( \"cp\"=          -1,\n",
    "                              \"minsplit\"=  2000,\n",
    "                              \"minbucket\"=  100,\n",
    "                              \"maxdepth\"=   10 )"
   ]
  },
  {
   "cell_type": "code",
   "execution_count": 6,
   "metadata": {
    "vscode": {
     "languageId": "r"
    }
   },
   "outputs": [],
   "source": [
    "#parametros  arbol\n",
    "PARAM$feature_fraction  <- 0.5  #entreno cada arbol con solo 50% de las variables variables\n",
    "PARAM$num_trees_max  <- 500 #voy a generar 500 arboles, a mas arboles mas tiempo de proceso y MEJOR MODELO, pero ganancias marginales"
   ]
  },
  {
   "cell_type": "code",
   "execution_count": 7,
   "metadata": {
    "vscode": {
     "languageId": "r"
    }
   },
   "outputs": [],
   "source": [
    "#------------------------------------------------------------------------------\n",
    "#------------------------------------------------------------------------------\n",
    "#Aqui comienza el programa\n",
    "\n",
    "setwd(\"C:/Users/ccarl/Documents/labo2023v/src\")  #Establezco el Working Directory"
   ]
  },
  {
   "cell_type": "code",
   "execution_count": 8,
   "metadata": {
    "vscode": {
     "languageId": "r"
    }
   },
   "outputs": [],
   "source": [
    "#cargo los datos\n",
    "dataset  <- fread(\"./datasets/dataset_pequeno.csv\")"
   ]
  },
  {
   "cell_type": "code",
   "execution_count": 9,
   "metadata": {
    "vscode": {
     "languageId": "r"
    }
   },
   "outputs": [],
   "source": [
    "#creo la carpeta donde va el experimento\n",
    "dir.create( \"./exp/\", showWarnings = FALSE  )\n",
    "carpeta_experimento  <-  paste0( \"./exp/7Lab\", PARAM$experimento, \"/\")\n",
    "dir.create( paste0( \"./exp/7Lab\", PARAM$experimento, \"/\"), \n",
    "            showWarnings = FALSE )\n",
    "\n",
    "setwd( carpeta_experimento )"
   ]
  },
  {
   "cell_type": "code",
   "execution_count": 10,
   "metadata": {
    "vscode": {
     "languageId": "r"
    }
   },
   "outputs": [],
   "source": [
    "#que tamanos de ensemble grabo a disco, pero siempre debo generar los 500\n",
    "grabar  <-  c( 1, 5, 10, 50, 100, 200, 500)"
   ]
  },
  {
   "cell_type": "code",
   "execution_count": 11,
   "metadata": {
    "vscode": {
     "languageId": "r"
    }
   },
   "outputs": [],
   "source": [
    "#defino los dataset de entrenamiento y aplicacion\n",
    "dtrain  <- dataset[ foto_mes==202107 ]\n",
    "dapply  <- dataset[ foto_mes==202109 ]"
   ]
  },
  {
   "cell_type": "code",
   "execution_count": 12,
   "metadata": {
    "vscode": {
     "languageId": "r"
    }
   },
   "outputs": [],
   "source": [
    "#aqui se va acumulando la probabilidad del ensemble\n",
    "dapply[ , prob_acumulada := 0 ]\n"
   ]
  },
  {
   "cell_type": "code",
   "execution_count": 13,
   "metadata": {
    "vscode": {
     "languageId": "r"
    }
   },
   "outputs": [],
   "source": [
    "#Establezco cuales son los campos que puedo usar para la prediccion\n",
    "#el copy() es por la Lazy Evaluation\n",
    "campos_buenos  <- copy( setdiff(  colnames(dtrain) ,  c(\"clase_ternaria\") ) )"
   ]
  },
  {
   "cell_type": "code",
   "execution_count": 14,
   "metadata": {
    "vscode": {
     "languageId": "r"
    }
   },
   "outputs": [],
   "source": [
    "#Genero las salidas\n",
    "set.seed(PARAM$semilla) #Establezco la semilla aleatoria"
   ]
  },
  {
   "cell_type": "code",
   "execution_count": 15,
   "metadata": {
    "vscode": {
     "languageId": "r"
    }
   },
   "outputs": [
    {
     "name": "stdout",
     "output_type": "stream",
     "text": [
      "1  5  10  50  100  200  500  "
     ]
    }
   ],
   "source": [
    "for( arbolito in  1:PARAM$num_trees_max )\n",
    "{\n",
    "  qty_campos_a_utilizar  <- as.integer( length(campos_buenos)* PARAM$feature_fraction )\n",
    "  campos_random  <- sample( campos_buenos, qty_campos_a_utilizar )\n",
    "  \n",
    "  #paso de un vector a un string con los elementos separados por un signo de \"+\"\n",
    "  #este hace falta para la formula\n",
    "  campos_random  <- paste( campos_random, collapse=\" + \")\n",
    "\n",
    "  #armo la formula para rpart\n",
    "  formulita  <- paste0( \"clase_ternaria ~ \", campos_random )\n",
    "\n",
    "  #genero el arbol de decision\n",
    "  modelo  <- rpart( formulita,\n",
    "                    data= dtrain,\n",
    "                    xval= 0,\n",
    "                    control= PARAM$rpart_param )\n",
    "\n",
    "  #aplico el modelo a los datos que no tienen clase\n",
    "  prediccion  <- predict( modelo, dapply , type = \"prob\")\n",
    "  \n",
    "  dapply[  ,  prob_acumulada :=  prob_acumulada + prediccion[ , \"BAJA+2\"] ]\n",
    "\n",
    "  if( arbolito %in%  grabar )\n",
    "  {\n",
    "    #Genero la entrega para Kaggle\n",
    "\tumbral_corte  <-  (1/40) *  arbolito\n",
    "    entrega  <- as.data.table( list( \"numero_de_cliente\"= dapply[  , numero_de_cliente],\n",
    "                                     \"Predicted\"= as.numeric(dapply[  , prob_acumulada] > umbral_corte) ) ) #genero la salida\n",
    "\n",
    "    nom_arch  <- paste0('KA', PARAM$experimento, \"_\",\n",
    "\t\t\t\t\t\tsprintf( '%.3d', arbolito ), #para que tenga ceros adelante\n",
    "\t\t\t\t\t\t'.csv' )\n",
    "    fwrite( entrega, \n",
    "            file= nom_arch,\n",
    "            sep= \",\" )\n",
    "\n",
    "    cat( arbolito, \" \" )\n",
    "  }\n",
    "  \n",
    "}\n"
   ]
  }
 ],
 "metadata": {
  "kernelspec": {
   "display_name": "R",
   "language": "R",
   "name": "ir"
  },
  "language_info": {
   "codemirror_mode": "r",
   "file_extension": ".r",
   "mimetype": "text/x-r-source",
   "name": "R",
   "pygments_lexer": "r",
   "version": "4.2.1"
  },
  "orig_nbformat": 4
 },
 "nbformat": 4,
 "nbformat_minor": 2
}
