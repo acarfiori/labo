{
 "cells": [
  {
   "cell_type": "code",
   "execution_count": 5,
   "metadata": {
    "vscode": {
     "languageId": "r"
    }
   },
   "outputs": [
    {
     "data": {
      "text/html": [
       "<table class=\"dataframe\">\n",
       "<caption>A matrix: 2 × 6 of type dbl</caption>\n",
       "<thead>\n",
       "\t<tr><th></th><th scope=col>used</th><th scope=col>(Mb)</th><th scope=col>gc trigger</th><th scope=col>(Mb)</th><th scope=col>max used</th><th scope=col>(Mb)</th></tr>\n",
       "</thead>\n",
       "<tbody>\n",
       "\t<tr><th scope=row>Ncells</th><td> 638366</td><td>34.1</td><td>1321371</td><td>70.6</td><td>1321371</td><td>70.6</td></tr>\n",
       "\t<tr><th scope=row>Vcells</th><td>1134797</td><td> 8.7</td><td>8388608</td><td>64.0</td><td>1682874</td><td>12.9</td></tr>\n",
       "</tbody>\n",
       "</table>\n"
      ],
      "text/latex": [
       "A matrix: 2 × 6 of type dbl\n",
       "\\begin{tabular}{r|llllll}\n",
       "  & used & (Mb) & gc trigger & (Mb) & max used & (Mb)\\\\\n",
       "\\hline\n",
       "\tNcells &  638366 & 34.1 & 1321371 & 70.6 & 1321371 & 70.6\\\\\n",
       "\tVcells & 1134797 &  8.7 & 8388608 & 64.0 & 1682874 & 12.9\\\\\n",
       "\\end{tabular}\n"
      ],
      "text/markdown": [
       "\n",
       "A matrix: 2 × 6 of type dbl\n",
       "\n",
       "| <!--/--> | used | (Mb) | gc trigger | (Mb) | max used | (Mb) |\n",
       "|---|---|---|---|---|---|---|\n",
       "| Ncells |  638366 | 34.1 | 1321371 | 70.6 | 1321371 | 70.6 |\n",
       "| Vcells | 1134797 |  8.7 | 8388608 | 64.0 | 1682874 | 12.9 |\n",
       "\n"
      ],
      "text/plain": [
       "       used    (Mb) gc trigger (Mb) max used (Mb)\n",
       "Ncells  638366 34.1 1321371    70.6 1321371  70.6\n",
       "Vcells 1134797  8.7 8388608    64.0 1682874  12.9"
      ]
     },
     "metadata": {},
     "output_type": "display_data"
    }
   ],
   "source": [
    "#Optimizacion Bayesiana de hiperparametros de  rpart\n",
    "\n",
    "#limpio la memoria\n",
    "rm( list=ls() )  #remove all objects\n",
    "gc()             #garbage collection"
   ]
  },
  {
   "cell_type": "code",
   "execution_count": 1,
   "metadata": {
    "vscode": {
     "languageId": "r"
    }
   },
   "outputs": [
    {
     "name": "stderr",
     "output_type": "stream",
     "text": [
      "Installing package into 'C:/Users/ccarl/AppData/Local/R/win-library/4.2'\n",
      "(as 'lib' is unspecified)\n",
      "\n",
      "also installing the dependency 'XML'\n",
      "\n",
      "\n"
     ]
    },
    {
     "name": "stdout",
     "output_type": "stream",
     "text": [
      "package 'XML' successfully unpacked and MD5 sums checked\n",
      "package 'rlist' successfully unpacked and MD5 sums checked\n",
      "\n",
      "The downloaded binary packages are in\n",
      "\tC:\\Users\\ccarl\\AppData\\Local\\Temp\\RtmpgvM8gi\\downloaded_packages\n"
     ]
    }
   ],
   "source": [
    "install.packages(\"rlist\")"
   ]
  },
  {
   "cell_type": "code",
   "execution_count": 2,
   "metadata": {
    "vscode": {
     "languageId": "r"
    }
   },
   "outputs": [
    {
     "name": "stderr",
     "output_type": "stream",
     "text": [
      "Loading required package: data.table\n",
      "\n",
      "Warning message:\n",
      "\"package 'data.table' was built under R version 4.2.3\"\n",
      "Loading required package: rlist\n",
      "\n",
      "Warning message:\n",
      "\"package 'rlist' was built under R version 4.2.3\"\n"
     ]
    }
   ],
   "source": [
    "require(\"data.table\")\n",
    "require(\"rlist\")"
   ]
  },
  {
   "cell_type": "code",
   "execution_count": 3,
   "metadata": {
    "vscode": {
     "languageId": "r"
    }
   },
   "outputs": [
    {
     "name": "stderr",
     "output_type": "stream",
     "text": [
      "Loading required package: rpart\n",
      "\n",
      "Warning message:\n",
      "\"package 'rpart' was built under R version 4.2.3\"\n",
      "Loading required package: parallel\n",
      "\n"
     ]
    }
   ],
   "source": [
    "require(\"rpart\")\n",
    "require(\"parallel\")"
   ]
  },
  {
   "cell_type": "code",
   "execution_count": 6,
   "metadata": {
    "vscode": {
     "languageId": "r"
    }
   },
   "outputs": [
    {
     "name": "stderr",
     "output_type": "stream",
     "text": [
      "Installing package into 'C:/Users/ccarl/AppData/Local/R/win-library/4.2'\n",
      "(as 'lib' is unspecified)\n",
      "\n",
      "also installing the dependencies 'fastmatch', 'mlr', 'ParamHelpers', 'smoof', 'BBmisc', 'parallelMap'\n",
      "\n",
      "\n"
     ]
    },
    {
     "name": "stdout",
     "output_type": "stream",
     "text": [
      "package 'fastmatch' successfully unpacked and MD5 sums checked\n",
      "package 'mlr' successfully unpacked and MD5 sums checked\n",
      "package 'ParamHelpers' successfully unpacked and MD5 sums checked\n",
      "package 'smoof' successfully unpacked and MD5 sums checked\n",
      "package 'BBmisc' successfully unpacked and MD5 sums checked\n",
      "package 'parallelMap' successfully unpacked and MD5 sums checked\n",
      "package 'mlrMBO' successfully unpacked and MD5 sums checked\n",
      "\n",
      "The downloaded binary packages are in\n",
      "\tC:\\Users\\ccarl\\AppData\\Local\\Temp\\RtmpgvM8gi\\downloaded_packages\n"
     ]
    }
   ],
   "source": [
    "install.packages(\"mlrMBO\")"
   ]
  },
  {
   "cell_type": "code",
   "execution_count": 7,
   "metadata": {
    "vscode": {
     "languageId": "r"
    }
   },
   "outputs": [
    {
     "name": "stderr",
     "output_type": "stream",
     "text": [
      "Loading required package: DiceKriging\n",
      "\n",
      "Warning message:\n",
      "\"package 'DiceKriging' was built under R version 4.2.3\"\n",
      "Loading required package: mlrMBO\n",
      "\n",
      "Warning message:\n",
      "\"package 'mlrMBO' was built under R version 4.2.3\"\n",
      "Loading required package: mlr\n",
      "\n",
      "Warning message:\n",
      "\"package 'mlr' was built under R version 4.2.3\"\n",
      "Loading required package: ParamHelpers\n",
      "\n",
      "Warning message:\n",
      "\"package 'ParamHelpers' was built under R version 4.2.3\"\n",
      "Warning message: 'mlr' is in 'maintenance-only' mode since July 2019.\n",
      "Future development will only happen in 'mlr3'\n",
      "(<https://mlr3.mlr-org.com>). Due to the focus on 'mlr3' there might be\n",
      "uncaught bugs meanwhile in {mlr} - please consider switching.\n",
      "\n",
      "Loading required package: smoof\n",
      "\n",
      "Warning message:\n",
      "\"package 'smoof' was built under R version 4.2.3\"\n",
      "Loading required package: checkmate\n",
      "\n",
      "\n",
      "Attaching package: 'checkmate'\n",
      "\n",
      "\n",
      "The following object is masked from 'package:DiceKriging':\n",
      "\n",
      "    checkNames\n",
      "\n",
      "\n"
     ]
    }
   ],
   "source": [
    "\n",
    "#paquetes necesarios para la Bayesian Optimization\n",
    "require(\"DiceKriging\")\n",
    "require(\"mlrMBO\")"
   ]
  },
  {
   "cell_type": "code",
   "execution_count": 8,
   "metadata": {
    "vscode": {
     "languageId": "r"
    }
   },
   "outputs": [],
   "source": [
    "#Defino la  Optimizacion Bayesiana\n",
    "\n",
    "kBO_iter  <- 100   #cantidad de iteraciones de la Optimizacion Bayesiana\n",
    "\n",
    "hs  <- makeParamSet(\n",
    "          makeNumericParam(\"cp\"       , lower= -1   , upper=    0.1),\n",
    "          makeIntegerParam(\"minsplit\" , lower=  1L  , upper= 8000L),  #la letra L al final significa ENTERO\n",
    "          makeIntegerParam(\"minbucket\", lower=  1L  , upper= 4000L),\n",
    "          makeIntegerParam(\"maxdepth\" , lower=  3L  , upper=   20L),\n",
    "          forbidden = quote( minbucket > 0.5*minsplit ) )             # minbuket NO PUEDE ser mayor que la mitad de minsplit\n",
    "\n",
    "ksemilla_azar  <- 604997   #cambiar por la primer semilla"
   ]
  },
  {
   "cell_type": "code",
   "execution_count": 9,
   "metadata": {
    "vscode": {
     "languageId": "r"
    }
   },
   "outputs": [],
   "source": [
    "#graba a un archivo los componentes de lista\n",
    "#para el primer registro, escribe antes los titulos\n",
    "\n",
    "loguear  <- function( reg, arch=NA, folder=\"./work/\", ext=\".txt\", verbose=TRUE )\n",
    "{\n",
    "  archivo  <- arch\n",
    "  if( is.na(arch) )  archivo  <- paste0( folder, substitute( reg), ext )\n",
    "\n",
    "  if( !file.exists( archivo ) )  #Escribo los titulos\n",
    "  {\n",
    "    linea  <- paste0( \"fecha\\t\", \n",
    "                      paste( list.names(reg), collapse=\"\\t\" ), \"\\n\" )\n",
    "\n",
    "    cat( linea, file=archivo )\n",
    "  }\n",
    "\n",
    "  linea  <- paste0( format(Sys.time(), \"%Y%m%d %H%M%S\"),  \"\\t\",     #la fecha y hora\n",
    "                    gsub( \", \", \"\\t\", toString( reg ) ),  \"\\n\" )\n",
    "\n",
    "  cat( linea, file=archivo, append=TRUE )  #grabo al archivo\n",
    "\n",
    "  if( verbose )  cat( linea )   #imprimo por pantalla\n",
    "}"
   ]
  },
  {
   "cell_type": "code",
   "execution_count": 10,
   "metadata": {
    "vscode": {
     "languageId": "r"
    }
   },
   "outputs": [],
   "source": [
    "#particionar agrega una columna llamada fold a un dataset que consiste en una particion estratificada segun agrupa\n",
    "# particionar( data=dataset, division=c(70,30), agrupa=clase_ternaria, seed=semilla)   crea una particion 70, 30 \n",
    "# particionar( data=dataset, division=c(1,1,1,1,1), agrupa=clase_ternaria, seed=semilla)   divide el dataset en 5 particiones\n",
    "\n",
    "particionar  <- function( data, division, agrupa=\"\", campo=\"fold\", start=1, seed=NA )\n",
    "{\n",
    "  if( !is.na( seed)  )   set.seed( seed )\n",
    "\n",
    "  bloque  <- unlist( mapply(  function(x,y) { rep( y, x ) }, division, seq( from=start, length.out=length(division) )  ) )\n",
    "\n",
    "  data[ , (campo) :=  sample( rep( bloque, ceiling(.N/length(bloque))) )[1:.N],\n",
    "           by= agrupa ]\n",
    "}"
   ]
  },
  {
   "cell_type": "code",
   "execution_count": 11,
   "metadata": {
    "vscode": {
     "languageId": "r"
    }
   },
   "outputs": [],
   "source": [
    "#fold_test  tiene el numero de fold que voy a usar para testear, entreno en el resto de los folds\n",
    "#param tiene los hiperparametros del arbol\n",
    "\n",
    "ArbolSimple  <- function( fold_test, data, param )\n",
    "{\n",
    "  #genero el modelo\n",
    "  modelo  <- rpart(\"clase_ternaria ~ .\", \n",
    "                   data= data[ fold != fold_test, ],  #entreno en todo MENOS el fold_test que uso para testing\n",
    "                   xval= 0,\n",
    "                   control= param )\n",
    "\n",
    "  #aplico el modelo a los datos de testing\n",
    "  prediccion  <- predict( modelo, \n",
    "                          data[ fold==fold_test, ],  #aplico el modelo sobre los datos de testing\n",
    "                          type= \"prob\")   #quiero que me devuelva probabilidades\n",
    "\n",
    "  prob_baja2  <- prediccion[, \"BAJA+2\"]  #esta es la probabilidad de baja\n",
    "\n",
    "  #calculo la ganancia\n",
    "  ganancia_testing  <- data[ fold==fold_test ][ prob_baja2 > 1/40,  \n",
    "                                                sum( ifelse( clase_ternaria==\"BAJA+2\", 117000, -3000 ) )] \n",
    "\n",
    "  return( ganancia_testing )  #esta es la ganancia sobre el fold de testing, NO esta normalizada\n",
    "}"
   ]
  },
  {
   "cell_type": "code",
   "execution_count": 12,
   "metadata": {
    "vscode": {
     "languageId": "r"
    }
   },
   "outputs": [],
   "source": [
    "ArbolesCrossValidation  <- function( data, param, qfolds, pagrupa, semilla )\n",
    "{\n",
    "  divi  <- rep( 1, qfolds )  # generalmente  c(1, 1, 1, 1, 1 )  cinco unos\n",
    "\n",
    "  particionar( data, divi, seed=semilla, agrupa=pagrupa )  #particiono en dataset en folds\n",
    "\n",
    "  ganancias  <- mcmapply( ArbolSimple, \n",
    "                          seq(qfolds), # 1 2 3 4 5\n",
    "                          MoreArgs= list( data, param), \n",
    "                          SIMPLIFY= FALSE,\n",
    "                          mc.cores= 1 )   #se puede subir a qfolds si posee Linux o Mac OS\n",
    "\n",
    "  data[ , fold := NULL ]\n",
    "\n",
    "  #devuelvo la primer ganancia y el promedio\n",
    "  ganancia_promedio  <- mean( unlist( ganancias ) )   #promedio las ganancias\n",
    "  ganancia_promedio_normalizada  <- ganancia_promedio * qfolds  #aqui normalizo la ganancia\n",
    "  \n",
    "  return( ganancia_promedio_normalizada )\n",
    "}"
   ]
  },
  {
   "cell_type": "code",
   "execution_count": 13,
   "metadata": {
    "vscode": {
     "languageId": "r"
    }
   },
   "outputs": [],
   "source": [
    "#esta funcion solo puede recibir los parametros que se estan optimizando\n",
    "#el resto de los parametros, lamentablemente se pasan como variables globales\n",
    "\n",
    "EstimarGanancia  <- function( x )\n",
    "{\n",
    "   GLOBAL_iteracion  <<-  GLOBAL_iteracion + 1\n",
    "\n",
    "   xval_folds  <- 5\n",
    "   ganancia  <- ArbolesCrossValidation( dataset,\n",
    "                                        param= x, #los hiperparametros del arbol\n",
    "                                        qfolds= xval_folds,  #la cantidad de folds\n",
    "                                        pagrupa= \"clase_ternaria\",\n",
    "                                        semilla= ksemilla_azar )\n",
    "\n",
    "   #logueo \n",
    "   xx  <- x\n",
    "   xx$xval_folds  <-  xval_folds\n",
    "   xx$ganancia  <- ganancia\n",
    "   xx$iteracion <- GLOBAL_iteracion\n",
    "   loguear( xx,  arch= archivo_log )\n",
    "\n",
    "   return( ganancia )\n",
    "}"
   ]
  },
  {
   "cell_type": "code",
   "execution_count": 19,
   "metadata": {
    "vscode": {
     "languageId": "r"
    }
   },
   "outputs": [],
   "source": [
    "#Aqui empieza el programa\n",
    "\n",
    "setwd(\"C:/Users/ccarl/Documents/labo2023v/src\")   #Establezco el Working Directory"
   ]
  },
  {
   "cell_type": "code",
   "execution_count": 20,
   "metadata": {
    "vscode": {
     "languageId": "r"
    }
   },
   "outputs": [],
   "source": [
    "#cargo los datos\n",
    "dataset  <- fread(\"./datasets/dataset_pequeno.csv\")\n",
    "#trabajo solo con los datos con clase, es decir 202107\n",
    "dataset  <- dataset[ clase_ternaria!= \"\" ]"
   ]
  },
  {
   "cell_type": "code",
   "execution_count": 21,
   "metadata": {
    "vscode": {
     "languageId": "r"
    }
   },
   "outputs": [],
   "source": [
    "#creo la carpeta donde va el experimento\n",
    "# HT  representa  Hiperparameter Tuning\n",
    "dir.create( \"./exp/\",  showWarnings = FALSE ) \n",
    "dir.create( \"./exp/HT3210/\", showWarnings = FALSE )\n",
    "setwd(\"./exp/HT3210/\")   #Establezco el Working Directory DEL EXPERIMENTO"
   ]
  },
  {
   "cell_type": "code",
   "execution_count": 22,
   "metadata": {
    "vscode": {
     "languageId": "r"
    }
   },
   "outputs": [],
   "source": [
    "archivo_log  <- \"HT321.txt\"\n",
    "archivo_BO   <- \"HT321.RDATA\""
   ]
  },
  {
   "cell_type": "code",
   "execution_count": 23,
   "metadata": {
    "vscode": {
     "languageId": "r"
    }
   },
   "outputs": [],
   "source": [
    "#leo si ya existe el log, para retomar en caso que se se corte el programa\n",
    "GLOBAL_iteracion  <- 0\n",
    "\n",
    "if( file.exists(archivo_log) )\n",
    "{\n",
    " tabla_log  <- fread( archivo_log )\n",
    " GLOBAL_iteracion  <- nrow( tabla_log )\n",
    "}\n"
   ]
  },
  {
   "cell_type": "code",
   "execution_count": 24,
   "metadata": {
    "vscode": {
     "languageId": "r"
    }
   },
   "outputs": [],
   "source": [
    "#Aqui comienza la configuracion de la Bayesian Optimization\n",
    "\n",
    "funcion_optimizar  <- EstimarGanancia\n",
    "\n",
    "configureMlr( show.learner.output= FALSE)"
   ]
  },
  {
   "cell_type": "code",
   "execution_count": 25,
   "metadata": {
    "vscode": {
     "languageId": "r"
    }
   },
   "outputs": [],
   "source": [
    "#configuro la busqueda bayesiana,  los hiperparametros que se van a optimizar\n",
    "#por favor, no desesperarse por lo complejo\n",
    "obj.fun  <- makeSingleObjectiveFunction(\n",
    "              fn=       funcion_optimizar,\n",
    "              minimize= FALSE,   #estoy Maximizando la ganancia\n",
    "              noisy=    TRUE,\n",
    "              par.set=  hs,\n",
    "              has.simple.signature = FALSE\n",
    "             )\n",
    "\n",
    "ctrl  <- makeMBOControl( save.on.disk.at.time= 600,  save.file.path= archivo_BO)\n",
    "ctrl  <- setMBOControlTermination(ctrl, iters= kBO_iter )\n",
    "ctrl  <- setMBOControlInfill(ctrl, crit= makeMBOInfillCritEI())\n",
    "\n",
    "surr.km  <- makeLearner(\"regr.km\", predict.type= \"se\", covtype= \"matern3_2\", control= list(trace= TRUE))"
   ]
  },
  {
   "cell_type": "code",
   "execution_count": 26,
   "metadata": {
    "vscode": {
     "languageId": "r"
    }
   },
   "outputs": [
    {
     "name": "stderr",
     "output_type": "stream",
     "text": [
      "Computing y column(s) for design. Not provided.\n",
      "\n"
     ]
    },
    {
     "name": "stdout",
     "output_type": "stream",
     "text": [
      "20230415 004332\t-0.439524968134356\t5635\t664\t9\t5\t51480000\t1\n",
      "20230415 004436\t-0.70153931267123\t2493\t1066\t20\t5\t50004000\t2\n",
      "20230415 004453\t-0.21781695188547\t2666\t824\t5\t5\t51315000\t3\n",
      "20230415 004517\t-0.0973896665716892\t6703\t2278\t9\t5\t50907000\t4\n",
      "20230415 004531\t-0.951067709490599\t7614\t3282\t4\t5\t49881000\t5\n",
      "20230415 004556\t-0.38061960167106\t7388\t2521\t14\t5\t50709000\t6\n",
      "20230415 004632\t-0.890014183938911\t4223\t184\t18\t5\t52065000\t7\n",
      "20230415 004645\t0.0843459690135206\t6259\t399\t16\t5\t0\t8\n",
      "20230415 004701\t-0.517522284877487\t4640\t1832\t5\t5\t50862000\t9\n",
      "20230415 004727\t-0.108235307410359\t7913\t1450\t18\t5\t50955000\t10\n",
      "20230415 004753\t-0.678189504828437\t4929\t2412\t13\t5\t50304000\t11\n",
      "20230415 004823\t-0.545557937682606\t5866\t177\t14\t5\t52524000\t12\n",
      "20230415 004848\t-0.867436936092563\t7120\t848\t11\t5\t50955000\t13\n",
      "20230415 004911\t-0.973944059852511\t7586\t2990\t20\t5\t51504000\t14\n",
      "20230415 004925\t-0.183114870893769\t3876\t14\t4\t5\t50520000\t15\n",
      "20230415 004948\t-0.515891754883341\t6927\t3429\t18\t5\t49749000\t16\n"
     ]
    },
    {
     "name": "stderr",
     "output_type": "stream",
     "text": [
      "[mbo] 0: cp=-0.44; minsplit=5635; minbucket=664; maxdepth=9 : y = 5.15e+07 : 53.1 secs : initdesign\n",
      "\n",
      "[mbo] 0: cp=-0.702; minsplit=2493; minbucket=1066; maxdepth=20 : y = 5e+07 : 63.9 secs : initdesign\n",
      "\n",
      "[mbo] 0: cp=-0.218; minsplit=2666; minbucket=824; maxdepth=5 : y = 5.13e+07 : 17.0 secs : initdesign\n",
      "\n",
      "[mbo] 0: cp=-0.0974; minsplit=6703; minbucket=2278; maxdepth=9 : y = 5.09e+07 : 24.0 secs : initdesign\n",
      "\n",
      "[mbo] 0: cp=-0.951; minsplit=7614; minbucket=3282; maxdepth=4 : y = 4.99e+07 : 14.5 secs : initdesign\n",
      "\n",
      "[mbo] 0: cp=-0.381; minsplit=7388; minbucket=2521; maxdepth=14 : y = 5.07e+07 : 24.8 secs : initdesign\n",
      "\n",
      "[mbo] 0: cp=-0.89; minsplit=4223; minbucket=184; maxdepth=18 : y = 5.21e+07 : 35.4 secs : initdesign\n",
      "\n",
      "[mbo] 0: cp=0.0843; minsplit=6259; minbucket=399; maxdepth=16 : y = 0 : 13.2 secs : initdesign\n",
      "\n",
      "[mbo] 0: cp=-0.518; minsplit=4640; minbucket=1832; maxdepth=5 : y = 5.09e+07 : 16.6 secs : initdesign\n",
      "\n",
      "[mbo] 0: cp=-0.108; minsplit=7913; minbucket=1450; maxdepth=18 : y = 5.1e+07 : 25.6 secs : initdesign\n",
      "\n",
      "[mbo] 0: cp=-0.678; minsplit=4929; minbucket=2412; maxdepth=13 : y = 5.03e+07 : 25.8 secs : initdesign\n",
      "\n",
      "[mbo] 0: cp=-0.546; minsplit=5866; minbucket=177; maxdepth=14 : y = 5.25e+07 : 29.8 secs : initdesign\n",
      "\n",
      "[mbo] 0: cp=-0.867; minsplit=7120; minbucket=848; maxdepth=11 : y = 5.1e+07 : 25.4 secs : initdesign\n",
      "\n",
      "[mbo] 0: cp=-0.974; minsplit=7586; minbucket=2990; maxdepth=20 : y = 5.15e+07 : 23.2 secs : initdesign\n",
      "\n",
      "[mbo] 0: cp=-0.183; minsplit=3876; minbucket=14; maxdepth=4 : y = 5.05e+07 : 14.0 secs : initdesign\n",
      "\n",
      "[mbo] 0: cp=-0.516; minsplit=6927; minbucket=3429; maxdepth=18 : y = 4.97e+07 : 22.9 secs : initdesign\n",
      "\n"
     ]
    },
    {
     "name": "stdout",
     "output_type": "stream",
     "text": [
      "20230415 005017\t-0.906332591107852\t3787\t1807\t14\t5\t50862000\t17\n"
     ]
    },
    {
     "name": "stderr",
     "output_type": "stream",
     "text": [
      "[mbo] 1: cp=-0.906; minsplit=3787; minbucket=1807; maxdepth=14 : y = 5.09e+07 : 27.5 secs : infill_ei\n",
      "\n"
     ]
    },
    {
     "name": "stdout",
     "output_type": "stream",
     "text": [
      "20230415 005051\t-0.290046312920921\t6738\t258\t20\t5\t51978000\t18\n"
     ]
    },
    {
     "name": "stderr",
     "output_type": "stream",
     "text": [
      "[mbo] 2: cp=-0.29; minsplit=6738; minbucket=258; maxdepth=20 : y = 5.2e+07 : 33.1 secs : infill_ei\n",
      "\n"
     ]
    },
    {
     "name": "stdout",
     "output_type": "stream",
     "text": [
      "20230415 005105\t0.0996898607149757\t5254\t2444\t20\t5\t0\t19\n"
     ]
    },
    {
     "name": "stderr",
     "output_type": "stream",
     "text": [
      "[mbo] 3: cp=0.0997; minsplit=5254; minbucket=2444; maxdepth=20 : y = 0 : 12.7 secs : infill_ei\n",
      "\n"
     ]
    },
    {
     "name": "stdout",
     "output_type": "stream",
     "text": [
      "20230415 005123\t-0.187334677069141\t7087\t2680\t5\t5\t51675000\t20\n"
     ]
    },
    {
     "name": "stderr",
     "output_type": "stream",
     "text": [
      "[mbo] 4: cp=-0.187; minsplit=7087; minbucket=2680; maxdepth=5 : y = 5.17e+07 : 16.3 secs : infill_ei\n",
      "\n"
     ]
    },
    {
     "name": "stdout",
     "output_type": "stream",
     "text": [
      "20230415 005159\t-0.370072960289335\t1005\t496\t20\t5\t51852000\t21\n"
     ]
    },
    {
     "name": "stderr",
     "output_type": "stream",
     "text": [
      "[mbo] 5: cp=-0.37; minsplit=1005; minbucket=496; maxdepth=20 : y = 5.19e+07 : 34.9 secs : infill_ei\n",
      "\n"
     ]
    },
    {
     "name": "stdout",
     "output_type": "stream",
     "text": [
      "20230415 005233\t-0.351397897471871\t3429\t380\t16\t5\t51951000\t22\n"
     ]
    },
    {
     "name": "stderr",
     "output_type": "stream",
     "text": [
      "[mbo] 6: cp=-0.351; minsplit=3429; minbucket=380; maxdepth=16 : y = 5.2e+07 : 33.1 secs : infill_ei\n",
      "\n"
     ]
    },
    {
     "name": "stdout",
     "output_type": "stream",
     "text": [
      "20230415 005304\t-0.94026362677287\t5767\t1661\t20\t5\t50955000\t23\n"
     ]
    },
    {
     "name": "stderr",
     "output_type": "stream",
     "text": [
      "[mbo] 7: cp=-0.94; minsplit=5767; minbucket=1661; maxdepth=20 : y = 5.1e+07 : 30.1 secs : infill_ei\n",
      "\n",
      "Saved the current state after iteration 8 in the file HT321.RDATA.\n",
      "\n"
     ]
    },
    {
     "name": "stdout",
     "output_type": "stream",
     "text": [
      "20230415 005410\t-0.500779080343471\t1918\t5\t20\t5\t48912000\t24\n"
     ]
    },
    {
     "name": "stderr",
     "output_type": "stream",
     "text": [
      "[mbo] 8: cp=-0.501; minsplit=1918; minbucket=5; maxdepth=20 : y = 4.89e+07 : 63.7 secs : infill_ei\n",
      "\n"
     ]
    },
    {
     "name": "stdout",
     "output_type": "stream",
     "text": [
      "20230415 005440\t-0.166387535289531\t7996\t1655\t10\t5\t50955000\t25\n"
     ]
    },
    {
     "name": "stderr",
     "output_type": "stream",
     "text": [
      "[mbo] 9: cp=-0.166; minsplit=7996; minbucket=1655; maxdepth=10 : y = 5.1e+07 : 28.8 secs : infill_ei\n",
      "\n"
     ]
    },
    {
     "name": "stdout",
     "output_type": "stream",
     "text": [
      "20230415 005508\t-0.296087000670301\t4880\t2422\t9\t5\t50304000\t26\n"
     ]
    },
    {
     "name": "stderr",
     "output_type": "stream",
     "text": [
      "[mbo] 10: cp=-0.296; minsplit=4880; minbucket=2422; maxdepth=9 : y = 5.03e+07 : 26.5 secs : infill_ei\n",
      "\n"
     ]
    },
    {
     "name": "stdout",
     "output_type": "stream",
     "text": [
      "20230415 005521\t-0.781326480092263\t4084\t4\t3\t5\t50616000\t27\n"
     ]
    },
    {
     "name": "stderr",
     "output_type": "stream",
     "text": [
      "[mbo] 11: cp=-0.781; minsplit=4084; minbucket=4; maxdepth=3 : y = 5.06e+07 : 12.3 secs : infill_ei\n",
      "\n"
     ]
    },
    {
     "name": "stdout",
     "output_type": "stream",
     "text": [
      "20230415 005535\t-0.335957933334668\t1904\t5\t3\t5\t49770000\t28\n"
     ]
    },
    {
     "name": "stderr",
     "output_type": "stream",
     "text": [
      "[mbo] 12: cp=-0.336; minsplit=1904; minbucket=5; maxdepth=3 : y = 4.98e+07 : 12.1 secs : infill_ei\n",
      "\n"
     ]
    },
    {
     "name": "stdout",
     "output_type": "stream",
     "text": [
      "20230415 005619\t-0.597525340464867\t4075\t4\t20\t5\t49779000\t29\n"
     ]
    },
    {
     "name": "stderr",
     "output_type": "stream",
     "text": [
      "[mbo] 13: cp=-0.598; minsplit=4075; minbucket=4; maxdepth=20 : y = 4.98e+07 : 43.3 secs : infill_ei\n",
      "\n"
     ]
    },
    {
     "name": "stdout",
     "output_type": "stream",
     "text": [
      "20230415 005644\t-0.151856019188928\t6085\t3041\t20\t5\t51450000\t30\n"
     ]
    },
    {
     "name": "stderr",
     "output_type": "stream",
     "text": [
      "[mbo] 14: cp=-0.152; minsplit=6085; minbucket=3041; maxdepth=20 : y = 5.14e+07 : 23.9 secs : infill_ei\n",
      "\n"
     ]
    },
    {
     "name": "stdout",
     "output_type": "stream",
     "text": [
      "20230415 005725\t-0.755512681565933\t8000\t3\t20\t5\t50709000\t31\n"
     ]
    },
    {
     "name": "stderr",
     "output_type": "stream",
     "text": [
      "[mbo] 15: cp=-0.756; minsplit=8000; minbucket=3; maxdepth=20 : y = 5.07e+07 : 39.7 secs : infill_ei\n",
      "\n"
     ]
    },
    {
     "name": "stdout",
     "output_type": "stream",
     "text": [
      "20230415 005738\t-0.575355460085544\t7999\t19\t3\t5\t50616000\t32\n"
     ]
    },
    {
     "name": "stderr",
     "output_type": "stream",
     "text": [
      "[mbo] 16: cp=-0.575; minsplit=7999; minbucket=19; maxdepth=3 : y = 5.06e+07 : 11.7 secs : infill_ei\n",
      "\n"
     ]
    },
    {
     "name": "stdout",
     "output_type": "stream",
     "text": [
      "20230415 005751\t-0.119762266536051\t7836\t3917\t3\t5\t50706000\t33\n"
     ]
    },
    {
     "name": "stderr",
     "output_type": "stream",
     "text": [
      "[mbo] 17: cp=-0.12; minsplit=7836; minbucket=3917; maxdepth=3 : y = 5.07e+07 : 12.1 secs : infill_ei\n",
      "\n"
     ]
    },
    {
     "name": "stdout",
     "output_type": "stream",
     "text": [
      "20230415 005822\t-0.999941090954833\t4613\t5\t12\t5\t50097000\t34\n"
     ]
    },
    {
     "name": "stderr",
     "output_type": "stream",
     "text": [
      "[mbo] 18: cp=-1; minsplit=4613; minbucket=5; maxdepth=12 : y = 5.01e+07 : 29.6 secs : infill_ei\n",
      "\n"
     ]
    },
    {
     "name": "stdout",
     "output_type": "stream",
     "text": [
      "20230415 005912\t-0.829341177583231\t12\t2\t18\t5\t28200000\t35\n"
     ]
    },
    {
     "name": "stderr",
     "output_type": "stream",
     "text": [
      "[mbo] 19: cp=-0.829; minsplit=12; minbucket=2; maxdepth=18 : y = 2.82e+07 : 49.2 secs : infill_ei\n",
      "\n"
     ]
    },
    {
     "name": "stdout",
     "output_type": "stream",
     "text": [
      "20230415 005925\t-0.717447145903499\t6253\t5\t3\t5\t50616000\t36\n"
     ]
    },
    {
     "name": "stderr",
     "output_type": "stream",
     "text": [
      "[mbo] 20: cp=-0.717; minsplit=6253; minbucket=5; maxdepth=3 : y = 5.06e+07 : 11.9 secs : infill_ei\n",
      "\n"
     ]
    },
    {
     "name": "stdout",
     "output_type": "stream",
     "text": [
      "20230415 005938\t-0.900594891186536\t6206\t1\t3\t5\t50616000\t37\n"
     ]
    },
    {
     "name": "stderr",
     "output_type": "stream",
     "text": [
      "[mbo] 21: cp=-0.901; minsplit=6206; minbucket=1; maxdepth=3 : y = 5.06e+07 : 11.8 secs : infill_ei\n",
      "\n"
     ]
    },
    {
     "name": "stdout",
     "output_type": "stream",
     "text": [
      "20230415 010015\t-0.901905174012359\t7992\t8\t18\t5\t50649000\t38\n"
     ]
    },
    {
     "name": "stderr",
     "output_type": "stream",
     "text": [
      "[mbo] 22: cp=-0.902; minsplit=7992; minbucket=8; maxdepth=18 : y = 5.06e+07 : 36.2 secs : infill_ei\n",
      "\n"
     ]
    },
    {
     "name": "stdout",
     "output_type": "stream",
     "text": [
      "20230415 010044\t-0.491648710660377\t8000\t688\t20\t5\t51642000\t39\n"
     ]
    },
    {
     "name": "stderr",
     "output_type": "stream",
     "text": [
      "[mbo] 23: cp=-0.492; minsplit=8000; minbucket=688; maxdepth=20 : y = 5.16e+07 : 27.7 secs : infill_ei\n",
      "\n"
     ]
    },
    {
     "name": "stdout",
     "output_type": "stream",
     "text": [
      "20230415 010114\t-0.713288356400275\t5248\t996\t20\t5\t50646000\t40\n"
     ]
    },
    {
     "name": "stderr",
     "output_type": "stream",
     "text": [
      "[mbo] 24: cp=-0.713; minsplit=5248; minbucket=996; maxdepth=20 : y = 5.06e+07 : 28.5 secs : infill_ei\n",
      "\n"
     ]
    },
    {
     "name": "stdout",
     "output_type": "stream",
     "text": [
      "20230415 010127\t-0.769715407130496\t7931\t3901\t3\t5\t50706000\t41\n"
     ]
    },
    {
     "name": "stderr",
     "output_type": "stream",
     "text": [
      "[mbo] 25: cp=-0.77; minsplit=7931; minbucket=3901; maxdepth=3 : y = 5.07e+07 : 11.8 secs : infill_ei\n",
      "\n"
     ]
    },
    {
     "name": "stdout",
     "output_type": "stream",
     "text": [
      "20230415 010218\t-0.254395160979013\t524\t8\t20\t5\t48783000\t42\n"
     ]
    },
    {
     "name": "stderr",
     "output_type": "stream",
     "text": [
      "[mbo] 26: cp=-0.254; minsplit=524; minbucket=8; maxdepth=20 : y = 4.88e+07 : 50.2 secs : infill_ei\n",
      "\n"
     ]
    },
    {
     "name": "stdout",
     "output_type": "stream",
     "text": [
      "20230415 010300\t-0.393188804427602\t7062\t1\t20\t5\t50847000\t43\n"
     ]
    },
    {
     "name": "stderr",
     "output_type": "stream",
     "text": [
      "[mbo] 27: cp=-0.393; minsplit=7062; minbucket=1; maxdepth=20 : y = 5.08e+07 : 40.6 secs : infill_ei\n",
      "\n"
     ]
    },
    {
     "name": "stdout",
     "output_type": "stream",
     "text": [
      "20230415 010327\t-0.22689441742614\t6999\t2150\t20\t5\t50796000\t44\n"
     ]
    },
    {
     "name": "stderr",
     "output_type": "stream",
     "text": [
      "[mbo] 28: cp=-0.227; minsplit=6999; minbucket=2150; maxdepth=20 : y = 5.08e+07 : 25.8 secs : infill_ei\n",
      "\n",
      "Saved the current state after iteration 29 in the file HT321.RDATA.\n",
      "\n"
     ]
    },
    {
     "name": "stdout",
     "output_type": "stream",
     "text": [
      "20230415 010341\t-0.13148186232427\t3856\t1926\t3\t5\t50706000\t45\n"
     ]
    },
    {
     "name": "stderr",
     "output_type": "stream",
     "text": [
      "[mbo] 29: cp=-0.131; minsplit=3856; minbucket=1926; maxdepth=3 : y = 5.07e+07 : 12.1 secs : infill_ei\n",
      "\n"
     ]
    },
    {
     "name": "stdout",
     "output_type": "stream",
     "text": [
      "20230415 010405\t-0.888090992638651\t7179\t3589\t20\t5\t50706000\t46\n"
     ]
    },
    {
     "name": "stderr",
     "output_type": "stream",
     "text": [
      "[mbo] 30: cp=-0.888; minsplit=7179; minbucket=3589; maxdepth=20 : y = 5.07e+07 : 23.0 secs : infill_ei\n",
      "\n"
     ]
    },
    {
     "name": "stdout",
     "output_type": "stream",
     "text": [
      "20230415 010431\t-0.528529510339703\t7994\t794\t11\t5\t51642000\t47\n"
     ]
    },
    {
     "name": "stderr",
     "output_type": "stream",
     "text": [
      "[mbo] 31: cp=-0.529; minsplit=7994; minbucket=794; maxdepth=11 : y = 5.16e+07 : 25.2 secs : infill_ei\n",
      "\n"
     ]
    },
    {
     "name": "stdout",
     "output_type": "stream",
     "text": [
      "20230415 010444\t-0.763302729864272\t6825\t1139\t3\t5\t50706000\t48\n"
     ]
    },
    {
     "name": "stderr",
     "output_type": "stream",
     "text": [
      "[mbo] 32: cp=-0.763; minsplit=6825; minbucket=1139; maxdepth=3 : y = 5.07e+07 : 12.3 secs : infill_ei\n",
      "\n"
     ]
    },
    {
     "name": "stdout",
     "output_type": "stream",
     "text": [
      "20230415 010513\t-0.4169006022125\t3656\t1825\t20\t5\t50862000\t49\n"
     ]
    },
    {
     "name": "stderr",
     "output_type": "stream",
     "text": [
      "[mbo] 33: cp=-0.417; minsplit=3656; minbucket=1825; maxdepth=20 : y = 5.09e+07 : 27.7 secs : infill_ei\n",
      "\n"
     ]
    },
    {
     "name": "stdout",
     "output_type": "stream",
     "text": [
      "20230415 010527\t-0.650731824569944\t3100\t447\t3\t5\t50706000\t50\n"
     ]
    },
    {
     "name": "stderr",
     "output_type": "stream",
     "text": [
      "[mbo] 34: cp=-0.651; minsplit=3100; minbucket=447; maxdepth=3 : y = 5.07e+07 : 12.0 secs : infill_ei\n",
      "\n"
     ]
    },
    {
     "name": "stdout",
     "output_type": "stream",
     "text": [
      "20230415 010540\t-0.25163675475193\t6758\t531\t3\t5\t50706000\t51\n"
     ]
    },
    {
     "name": "stderr",
     "output_type": "stream",
     "text": [
      "[mbo] 35: cp=-0.252; minsplit=6758; minbucket=531; maxdepth=3 : y = 5.07e+07 : 12.1 secs : infill_ei\n",
      "\n"
     ]
    },
    {
     "name": "stdout",
     "output_type": "stream",
     "text": [
      "20230415 010608\t-0.334985684507193\t5962\t1166\t20\t5\t50955000\t52\n"
     ]
    },
    {
     "name": "stderr",
     "output_type": "stream",
     "text": [
      "[mbo] 36: cp=-0.335; minsplit=5962; minbucket=1166; maxdepth=20 : y = 5.1e+07 : 27.4 secs : infill_ei\n",
      "\n"
     ]
    },
    {
     "name": "stdout",
     "output_type": "stream",
     "text": [
      "20230415 010634\t-0.999829301320121\t5887\t2938\t17\t5\t51414000\t53\n"
     ]
    },
    {
     "name": "stderr",
     "output_type": "stream",
     "text": [
      "[mbo] 37: cp=-1; minsplit=5887; minbucket=2938; maxdepth=17 : y = 5.14e+07 : 24.1 secs : infill_ei\n",
      "\n"
     ]
    },
    {
     "name": "stdout",
     "output_type": "stream",
     "text": [
      "20230415 010703\t-0.896101084157791\t5020\t249\t12\t5\t52437000\t54\n"
     ]
    },
    {
     "name": "stderr",
     "output_type": "stream",
     "text": [
      "[mbo] 38: cp=-0.896; minsplit=5020; minbucket=249; maxdepth=12 : y = 5.24e+07 : 27.9 secs : infill_ei\n",
      "\n"
     ]
    },
    {
     "name": "stdout",
     "output_type": "stream",
     "text": [
      "20230415 010734\t-0.38401123165829\t1958\t974\t13\t5\t50733000\t55\n"
     ]
    },
    {
     "name": "stderr",
     "output_type": "stream",
     "text": [
      "[mbo] 39: cp=-0.384; minsplit=1958; minbucket=974; maxdepth=13 : y = 5.07e+07 : 30.0 secs : infill_ei\n",
      "\n"
     ]
    },
    {
     "name": "stdout",
     "output_type": "stream",
     "text": [
      "20230415 010806\t-0.482535182735227\t6896\t2\t14\t5\t50982000\t56\n"
     ]
    },
    {
     "name": "stderr",
     "output_type": "stream",
     "text": [
      "[mbo] 40: cp=-0.483; minsplit=6896; minbucket=2; maxdepth=14 : y = 5.1e+07 : 31.0 secs : infill_ei\n",
      "\n"
     ]
    },
    {
     "name": "stdout",
     "output_type": "stream",
     "text": [
      "20230415 010830\t-0.557374150516878\t4073\t487\t8\t5\t50832000\t57\n"
     ]
    },
    {
     "name": "stderr",
     "output_type": "stream",
     "text": [
      "[mbo] 41: cp=-0.557; minsplit=4073; minbucket=487; maxdepth=8 : y = 5.08e+07 : 22.3 secs : infill_ei\n",
      "\n"
     ]
    },
    {
     "name": "stdout",
     "output_type": "stream",
     "text": [
      "20230415 010843\t-0.43580832402121\t7942\t3893\t3\t5\t50706000\t58\n"
     ]
    },
    {
     "name": "stderr",
     "output_type": "stream",
     "text": [
      "[mbo] 42: cp=-0.436; minsplit=7942; minbucket=3893; maxdepth=3 : y = 5.07e+07 : 11.8 secs : infill_ei\n",
      "\n"
     ]
    },
    {
     "name": "stdout",
     "output_type": "stream",
     "text": [
      "20230415 010920\t-0.547414341137802\t8000\t104\t20\t5\t51921000\t59\n"
     ]
    },
    {
     "name": "stderr",
     "output_type": "stream",
     "text": [
      "[mbo] 43: cp=-0.547; minsplit=8000; minbucket=104; maxdepth=20 : y = 5.19e+07 : 35.7 secs : infill_ei\n",
      "\n"
     ]
    },
    {
     "name": "stdout",
     "output_type": "stream",
     "text": [
      "20230415 010945\t-0.127387514999113\t7293\t2971\t14\t5\t51393000\t60\n"
     ]
    },
    {
     "name": "stderr",
     "output_type": "stream",
     "text": [
      "[mbo] 44: cp=-0.127; minsplit=7293; minbucket=2971; maxdepth=14 : y = 5.14e+07 : 23.7 secs : infill_ei\n",
      "\n"
     ]
    },
    {
     "name": "stdout",
     "output_type": "stream",
     "text": [
      "20230415 011018\t-0.197264904460779\t5847\t377\t20\t5\t52539000\t61\n"
     ]
    },
    {
     "name": "stderr",
     "output_type": "stream",
     "text": [
      "[mbo] 45: cp=-0.197; minsplit=5847; minbucket=377; maxdepth=20 : y = 5.25e+07 : 32.1 secs : infill_ei\n",
      "\n"
     ]
    },
    {
     "name": "stdout",
     "output_type": "stream",
     "text": [
      "20230415 011031\t-0.881542834811039\t4957\t2478\t3\t5\t50706000\t62\n"
     ]
    },
    {
     "name": "stderr",
     "output_type": "stream",
     "text": [
      "[mbo] 46: cp=-0.882; minsplit=4957; minbucket=2478; maxdepth=3 : y = 5.07e+07 : 12.1 secs : infill_ei\n",
      "\n"
     ]
    },
    {
     "name": "stdout",
     "output_type": "stream",
     "text": [
      "20230415 011106\t-0.68352384028211\t4240\t59\t15\t5\t51264000\t63\n"
     ]
    },
    {
     "name": "stderr",
     "output_type": "stream",
     "text": [
      "[mbo] 47: cp=-0.684; minsplit=4240; minbucket=59; maxdepth=15 : y = 5.13e+07 : 33.3 secs : infill_ei\n",
      "\n"
     ]
    },
    {
     "name": "stdout",
     "output_type": "stream",
     "text": [
      "20230415 011136\t-0.541138665406801\t6072\t653\t17\t5\t51642000\t64\n"
     ]
    },
    {
     "name": "stderr",
     "output_type": "stream",
     "text": [
      "[mbo] 48: cp=-0.541; minsplit=6072; minbucket=653; maxdepth=17 : y = 5.16e+07 : 29.2 secs : infill_ei\n",
      "\n"
     ]
    },
    {
     "name": "stdout",
     "output_type": "stream",
     "text": [
      "20230415 011150\t-0.375142060896453\t5151\t2557\t3\t5\t50706000\t65\n"
     ]
    },
    {
     "name": "stderr",
     "output_type": "stream",
     "text": [
      "[mbo] 49: cp=-0.375; minsplit=5151; minbucket=2557; maxdepth=3 : y = 5.07e+07 : 12.0 secs : infill_ei\n",
      "\n"
     ]
    },
    {
     "name": "stdout",
     "output_type": "stream",
     "text": [
      "20230415 011203\t-0.528727204908935\t5702\t156\t3\t5\t50706000\t66\n"
     ]
    },
    {
     "name": "stderr",
     "output_type": "stream",
     "text": [
      "[mbo] 50: cp=-0.529; minsplit=5702; minbucket=156; maxdepth=3 : y = 5.07e+07 : 12.1 secs : infill_ei\n",
      "\n"
     ]
    },
    {
     "name": "stdout",
     "output_type": "stream",
     "text": [
      "20230415 011236\t-0.147776707796892\t6799\t418\t20\t5\t52056000\t67\n"
     ]
    },
    {
     "name": "stderr",
     "output_type": "stream",
     "text": [
      "[mbo] 51: cp=-0.148; minsplit=6799; minbucket=418; maxdepth=20 : y = 5.21e+07 : 31.4 secs : infill_ei\n",
      "\n"
     ]
    },
    {
     "name": "stdout",
     "output_type": "stream",
     "text": [
      "20230415 011250\t-0.556550442495364\t7996\t3088\t3\t5\t50706000\t68\n"
     ]
    },
    {
     "name": "stderr",
     "output_type": "stream",
     "text": [
      "[mbo] 52: cp=-0.557; minsplit=7996; minbucket=3088; maxdepth=3 : y = 5.07e+07 : 12.3 secs : infill_ei\n",
      "\n"
     ]
    },
    {
     "name": "stdout",
     "output_type": "stream",
     "text": [
      "20230415 011319\t-0.192280978948798\t7997\t634\t20\t5\t51642000\t69\n"
     ]
    },
    {
     "name": "stderr",
     "output_type": "stream",
     "text": [
      "[mbo] 53: cp=-0.192; minsplit=7997; minbucket=634; maxdepth=20 : y = 5.16e+07 : 28.3 secs : infill_ei\n",
      "\n"
     ]
    },
    {
     "name": "stdout",
     "output_type": "stream",
     "text": [
      "20230415 011339\t-0.140839850502397\t6057\t2370\t6\t5\t50847000\t70\n"
     ]
    },
    {
     "name": "stderr",
     "output_type": "stream",
     "text": [
      "[mbo] 54: cp=-0.141; minsplit=6057; minbucket=2370; maxdepth=6 : y = 5.08e+07 : 18.4 secs : infill_ei\n",
      "\n",
      "Saved the current state after iteration 55 in the file HT321.RDATA.\n",
      "\n"
     ]
    },
    {
     "name": "stdout",
     "output_type": "stream",
     "text": [
      "20230415 011411\t-0.124254243801309\t2575\t893\t20\t5\t50883000\t71\n"
     ]
    },
    {
     "name": "stderr",
     "output_type": "stream",
     "text": [
      "[mbo] 55: cp=-0.124; minsplit=2575; minbucket=893; maxdepth=20 : y = 5.09e+07 : 30.8 secs : infill_ei\n",
      "\n"
     ]
    },
    {
     "name": "stdout",
     "output_type": "stream",
     "text": [
      "20230415 011440\t-0.181812495669239\t4576\t986\t17\t5\t50646000\t72\n"
     ]
    },
    {
     "name": "stderr",
     "output_type": "stream",
     "text": [
      "[mbo] 56: cp=-0.182; minsplit=4576; minbucket=986; maxdepth=17 : y = 5.06e+07 : 28.4 secs : infill_ei\n",
      "\n"
     ]
    },
    {
     "name": "stdout",
     "output_type": "stream",
     "text": [
      "20230415 011504\t-0.213121824529696\t7971\t3981\t8\t5\t50706000\t73\n"
     ]
    },
    {
     "name": "stderr",
     "output_type": "stream",
     "text": [
      "[mbo] 57: cp=-0.213; minsplit=7971; minbucket=3981; maxdepth=8 : y = 5.07e+07 : 21.9 secs : infill_ei\n",
      "\n"
     ]
    },
    {
     "name": "stdout",
     "output_type": "stream",
     "text": [
      "20230415 011532\t-0.213925173969429\t6697\t42\t11\t5\t52527000\t74\n"
     ]
    },
    {
     "name": "stderr",
     "output_type": "stream",
     "text": [
      "[mbo] 58: cp=-0.214; minsplit=6697; minbucket=42; maxdepth=11 : y = 5.25e+07 : 26.6 secs : infill_ei\n",
      "\n"
     ]
    },
    {
     "name": "stdout",
     "output_type": "stream",
     "text": [
      "20230415 011557\t-0.453215595954959\t7992\t2397\t11\t5\t50796000\t75\n"
     ]
    },
    {
     "name": "stderr",
     "output_type": "stream",
     "text": [
      "[mbo] 59: cp=-0.453; minsplit=7992; minbucket=2397; maxdepth=11 : y = 5.08e+07 : 24.5 secs : infill_ei\n",
      "\n"
     ]
    },
    {
     "name": "stdout",
     "output_type": "stream",
     "text": [
      "20230415 011611\t-0.731003383067538\t3826\t1910\t3\t5\t50706000\t76\n"
     ]
    },
    {
     "name": "stderr",
     "output_type": "stream",
     "text": [
      "[mbo] 60: cp=-0.731; minsplit=3826; minbucket=1910; maxdepth=3 : y = 5.07e+07 : 12.0 secs : infill_ei\n",
      "\n"
     ]
    },
    {
     "name": "stdout",
     "output_type": "stream",
     "text": [
      "20230415 011643\t-0.894288940896364\t5065\t638\t20\t5\t51333000\t77\n"
     ]
    },
    {
     "name": "stderr",
     "output_type": "stream",
     "text": [
      "[mbo] 61: cp=-0.894; minsplit=5065; minbucket=638; maxdepth=20 : y = 5.13e+07 : 30.6 secs : infill_ei\n",
      "\n"
     ]
    },
    {
     "name": "stdout",
     "output_type": "stream",
     "text": [
      "20230415 011721\t-0.95339854255322\t4411\t11\t17\t5\t49047000\t78\n"
     ]
    },
    {
     "name": "stderr",
     "output_type": "stream",
     "text": [
      "[mbo] 62: cp=-0.953; minsplit=4411; minbucket=11; maxdepth=17 : y = 4.9e+07 : 37.3 secs : infill_ei\n",
      "\n"
     ]
    },
    {
     "name": "stdout",
     "output_type": "stream",
     "text": [
      "20230415 011747\t-0.999968363374489\t7998\t2148\t11\t5\t50799000\t79\n"
     ]
    },
    {
     "name": "stderr",
     "output_type": "stream",
     "text": [
      "[mbo] 63: cp=-1; minsplit=7998; minbucket=2148; maxdepth=11 : y = 5.08e+07 : 24.2 secs : infill_ei\n",
      "\n"
     ]
    },
    {
     "name": "stdout",
     "output_type": "stream",
     "text": [
      "20230415 011811\t-0.883458950130053\t4799\t8\t9\t5\t50175000\t80\n"
     ]
    },
    {
     "name": "stderr",
     "output_type": "stream",
     "text": [
      "[mbo] 64: cp=-0.883; minsplit=4799; minbucket=8; maxdepth=9 : y = 5.02e+07 : 23.5 secs : infill_ei\n",
      "\n"
     ]
    },
    {
     "name": "stdout",
     "output_type": "stream",
     "text": [
      "20230415 011842\t-0.884143426861135\t5833\t324\t14\t5\t52452000\t81\n"
     ]
    },
    {
     "name": "stderr",
     "output_type": "stream",
     "text": [
      "[mbo] 65: cp=-0.884; minsplit=5833; minbucket=324; maxdepth=14 : y = 5.25e+07 : 29.6 secs : infill_ei\n",
      "\n"
     ]
    },
    {
     "name": "stdout",
     "output_type": "stream",
     "text": [
      "20230415 011912\t-0.574635264728956\t7941\t312\t13\t5\t51969000\t82\n"
     ]
    },
    {
     "name": "stderr",
     "output_type": "stream",
     "text": [
      "[mbo] 66: cp=-0.575; minsplit=7941; minbucket=312; maxdepth=13 : y = 5.2e+07 : 28.1 secs : infill_ei\n",
      "\n"
     ]
    },
    {
     "name": "stdout",
     "output_type": "stream",
     "text": [
      "20230415 011937\t-0.895498133245083\t7997\t2447\t18\t5\t50751000\t83\n"
     ]
    },
    {
     "name": "stderr",
     "output_type": "stream",
     "text": [
      "[mbo] 67: cp=-0.895; minsplit=7997; minbucket=2447; maxdepth=18 : y = 5.08e+07 : 24.5 secs : infill_ei\n",
      "\n"
     ]
    },
    {
     "name": "stdout",
     "output_type": "stream",
     "text": [
      "20230415 012005\t-0.354402164080709\t5752\t302\t11\t5\t52455000\t84\n"
     ]
    },
    {
     "name": "stderr",
     "output_type": "stream",
     "text": [
      "[mbo] 68: cp=-0.354; minsplit=5752; minbucket=302; maxdepth=11 : y = 5.25e+07 : 25.9 secs : infill_ei\n",
      "\n"
     ]
    },
    {
     "name": "stdout",
     "output_type": "stream",
     "text": [
      "20230415 012035\t-0.761141246460789\t4370\t308\t13\t5\t52020000\t85\n"
     ]
    },
    {
     "name": "stderr",
     "output_type": "stream",
     "text": [
      "[mbo] 69: cp=-0.761; minsplit=4370; minbucket=308; maxdepth=13 : y = 5.2e+07 : 29.3 secs : infill_ei\n",
      "\n"
     ]
    },
    {
     "name": "stdout",
     "output_type": "stream",
     "text": [
      "20230415 012111\t-0.359485091396788\t2625\t374\t20\t5\t50973000\t86\n"
     ]
    },
    {
     "name": "stderr",
     "output_type": "stream",
     "text": [
      "[mbo] 70: cp=-0.359; minsplit=2625; minbucket=374; maxdepth=20 : y = 5.1e+07 : 34.5 secs : infill_ei\n",
      "\n"
     ]
    },
    {
     "name": "stdout",
     "output_type": "stream",
     "text": [
      "20230415 012130\t-0.111754272179905\t502\t249\t5\t5\t52767000\t87\n"
     ]
    },
    {
     "name": "stderr",
     "output_type": "stream",
     "text": [
      "[mbo] 71: cp=-0.112; minsplit=502; minbucket=249; maxdepth=5 : y = 5.28e+07 : 17.2 secs : infill_ei\n",
      "\n"
     ]
    },
    {
     "name": "stdout",
     "output_type": "stream",
     "text": [
      "20230415 012158\t-0.120443997424412\t863\t429\t9\t5\t51330000\t88\n"
     ]
    },
    {
     "name": "stderr",
     "output_type": "stream",
     "text": [
      "[mbo] 72: cp=-0.12; minsplit=863; minbucket=429; maxdepth=9 : y = 5.13e+07 : 26.3 secs : infill_ei\n",
      "\n"
     ]
    },
    {
     "name": "stdout",
     "output_type": "stream",
     "text": [
      "20230415 012229\t-0.312334037899402\t5855\t310\t14\t5\t52455000\t89\n"
     ]
    },
    {
     "name": "stderr",
     "output_type": "stream",
     "text": [
      "[mbo] 73: cp=-0.312; minsplit=5855; minbucket=310; maxdepth=14 : y = 5.25e+07 : 30.2 secs : infill_ei\n",
      "\n"
     ]
    },
    {
     "name": "stdout",
     "output_type": "stream",
     "text": [
      "20230415 012243\t-0.110920447806431\t648\t320\t3\t5\t51054000\t90\n"
     ]
    },
    {
     "name": "stderr",
     "output_type": "stream",
     "text": [
      "[mbo] 74: cp=-0.111; minsplit=648; minbucket=320; maxdepth=3 : y = 5.11e+07 : 12.0 secs : infill_ei\n",
      "\n"
     ]
    },
    {
     "name": "stdout",
     "output_type": "stream",
     "text": [
      "20230415 012307\t-0.110800821680579\t7996\t3987\t20\t5\t50706000\t91\n"
     ]
    },
    {
     "name": "stderr",
     "output_type": "stream",
     "text": [
      "[mbo] 75: cp=-0.111; minsplit=7996; minbucket=3987; maxdepth=20 : y = 5.07e+07 : 22.6 secs : infill_ei\n",
      "\n"
     ]
    },
    {
     "name": "stdout",
     "output_type": "stream",
     "text": [
      "20230415 012328\t-0.108029921375617\t20\t10\t6\t5\t49860000\t92\n"
     ]
    },
    {
     "name": "stderr",
     "output_type": "stream",
     "text": [
      "[mbo] 76: cp=-0.108; minsplit=20; minbucket=10; maxdepth=6 : y = 4.99e+07 : 19.3 secs : infill_ei\n",
      "\n"
     ]
    },
    {
     "name": "stdout",
     "output_type": "stream",
     "text": [
      "20230415 012347\t-0.117586634443385\t1272\t617\t5\t5\t52593000\t93\n"
     ]
    },
    {
     "name": "stderr",
     "output_type": "stream",
     "text": [
      "[mbo] 77: cp=-0.118; minsplit=1272; minbucket=617; maxdepth=5 : y = 5.26e+07 : 17.5 secs : infill_ei\n",
      "\n",
      "Saved the current state after iteration 78 in the file HT321.RDATA.\n",
      "\n"
     ]
    },
    {
     "name": "stdout",
     "output_type": "stream",
     "text": [
      "20230415 012406\t-0.336791818419212\t782\t390\t5\t5\t53448000\t94\n"
     ]
    },
    {
     "name": "stderr",
     "output_type": "stream",
     "text": [
      "[mbo] 78: cp=-0.337; minsplit=782; minbucket=390; maxdepth=5 : y = 5.34e+07 : 17.2 secs : infill_ei\n",
      "\n"
     ]
    },
    {
     "name": "stdout",
     "output_type": "stream",
     "text": [
      "20230415 012423\t-0.117709569946911\t7987\t228\t5\t5\t52056000\t95\n"
     ]
    },
    {
     "name": "stderr",
     "output_type": "stream",
     "text": [
      "[mbo] 79: cp=-0.118; minsplit=7987; minbucket=228; maxdepth=5 : y = 5.21e+07 : 15.9 secs : infill_ei\n",
      "\n"
     ]
    },
    {
     "name": "stdout",
     "output_type": "stream",
     "text": [
      "20230415 012441\t-0.32660913554483\t7916\t267\t5\t5\t52056000\t96\n"
     ]
    },
    {
     "name": "stderr",
     "output_type": "stream",
     "text": [
      "[mbo] 80: cp=-0.327; minsplit=7916; minbucket=267; maxdepth=5 : y = 5.21e+07 : 16.2 secs : infill_ei\n",
      "\n"
     ]
    },
    {
     "name": "stdout",
     "output_type": "stream",
     "text": [
      "20230415 012459\t-0.393918848257142\t808\t403\t5\t5\t53202000\t97\n"
     ]
    },
    {
     "name": "stderr",
     "output_type": "stream",
     "text": [
      "[mbo] 81: cp=-0.394; minsplit=808; minbucket=403; maxdepth=5 : y = 5.32e+07 : 17.1 secs : infill_ei\n",
      "\n"
     ]
    },
    {
     "name": "stdout",
     "output_type": "stream",
     "text": [
      "20230415 012518\t-0.203183675474242\t687\t341\t5\t5\t53157000\t98\n"
     ]
    },
    {
     "name": "stderr",
     "output_type": "stream",
     "text": [
      "[mbo] 82: cp=-0.203; minsplit=687; minbucket=341; maxdepth=5 : y = 5.32e+07 : 17.1 secs : infill_ei\n",
      "\n"
     ]
    },
    {
     "name": "stdout",
     "output_type": "stream",
     "text": [
      "20230415 012532\t-0.999908191727078\t4181\t1333\t3\t5\t50706000\t99\n"
     ]
    },
    {
     "name": "stderr",
     "output_type": "stream",
     "text": [
      "[mbo] 83: cp=-1; minsplit=4181; minbucket=1333; maxdepth=3 : y = 5.07e+07 : 12.8 secs : infill_ei\n",
      "\n"
     ]
    },
    {
     "name": "stdout",
     "output_type": "stream",
     "text": [
      "20230415 012551\t-0.282071019219308\t762\t376\t5\t5\t53466000\t100\n"
     ]
    },
    {
     "name": "stderr",
     "output_type": "stream",
     "text": [
      "[mbo] 84: cp=-0.282; minsplit=762; minbucket=376; maxdepth=5 : y = 5.35e+07 : 17.5 secs : infill_ei\n",
      "\n"
     ]
    },
    {
     "name": "stdout",
     "output_type": "stream",
     "text": [
      "20230415 012605\t-0.817522324211023\t7999\t286\t3\t5\t50706000\t101\n"
     ]
    },
    {
     "name": "stderr",
     "output_type": "stream",
     "text": [
      "[mbo] 85: cp=-0.818; minsplit=7999; minbucket=286; maxdepth=3 : y = 5.07e+07 : 11.7 secs : infill_ei\n",
      "\n"
     ]
    },
    {
     "name": "stdout",
     "output_type": "stream",
     "text": [
      "20230415 012622\t-0.401096777614874\t3603\t323\t5\t5\t52005000\t102\n"
     ]
    },
    {
     "name": "stderr",
     "output_type": "stream",
     "text": [
      "[mbo] 86: cp=-0.401; minsplit=3603; minbucket=323; maxdepth=5 : y = 5.2e+07 : 16.4 secs : infill_ei\n",
      "\n"
     ]
    },
    {
     "name": "stdout",
     "output_type": "stream",
     "text": [
      "20230415 012646\t-0.23838176511909\t7993\t218\t9\t5\t52029000\t103\n"
     ]
    },
    {
     "name": "stderr",
     "output_type": "stream",
     "text": [
      "[mbo] 87: cp=-0.238; minsplit=7993; minbucket=218; maxdepth=9 : y = 5.2e+07 : 22.7 secs : infill_ei\n",
      "\n"
     ]
    },
    {
     "name": "stdout",
     "output_type": "stream",
     "text": [
      "20230415 012710\t-0.999986232752243\t8000\t3994\t12\t5\t50706000\t104\n"
     ]
    },
    {
     "name": "stderr",
     "output_type": "stream",
     "text": [
      "[mbo] 88: cp=-1; minsplit=8000; minbucket=3994; maxdepth=12 : y = 5.07e+07 : 22.2 secs : infill_ei\n",
      "\n"
     ]
    },
    {
     "name": "stdout",
     "output_type": "stream",
     "text": [
      "20230415 012728\t-0.302759718873739\t7996\t3286\t5\t5\t51231000\t105\n"
     ]
    },
    {
     "name": "stderr",
     "output_type": "stream",
     "text": [
      "[mbo] 89: cp=-0.303; minsplit=7996; minbucket=3286; maxdepth=5 : y = 5.12e+07 : 16.2 secs : infill_ei\n",
      "\n"
     ]
    },
    {
     "name": "stdout",
     "output_type": "stream",
     "text": [
      "20230415 012747\t-0.308838274609173\t763\t376\t5\t5\t53466000\t106\n"
     ]
    },
    {
     "name": "stderr",
     "output_type": "stream",
     "text": [
      "[mbo] 90: cp=-0.309; minsplit=763; minbucket=376; maxdepth=5 : y = 5.35e+07 : 17.1 secs : infill_ei\n",
      "\n"
     ]
    },
    {
     "name": "stdout",
     "output_type": "stream",
     "text": [
      "20230415 012805\t-0.363358092331876\t919\t454\t5\t5\t52065000\t107\n"
     ]
    },
    {
     "name": "stderr",
     "output_type": "stream",
     "text": [
      "[mbo] 91: cp=-0.363; minsplit=919; minbucket=454; maxdepth=5 : y = 5.21e+07 : 17.1 secs : infill_ei\n",
      "\n"
     ]
    },
    {
     "name": "stdout",
     "output_type": "stream",
     "text": [
      "20230415 012824\t-0.323652505887375\t529\t261\t5\t5\t52968000\t108\n"
     ]
    },
    {
     "name": "stderr",
     "output_type": "stream",
     "text": [
      "[mbo] 92: cp=-0.324; minsplit=529; minbucket=261; maxdepth=5 : y = 5.3e+07 : 17.1 secs : infill_ei\n",
      "\n"
     ]
    },
    {
     "name": "stdout",
     "output_type": "stream",
     "text": [
      "20230415 012843\t-0.42547894114007\t858\t420\t5\t5\t52248000\t109\n"
     ]
    },
    {
     "name": "stderr",
     "output_type": "stream",
     "text": [
      "[mbo] 93: cp=-0.425; minsplit=858; minbucket=420; maxdepth=5 : y = 5.22e+07 : 16.8 secs : infill_ei\n",
      "\n"
     ]
    },
    {
     "name": "stdout",
     "output_type": "stream",
     "text": [
      "20230415 012901\t-0.402125198478594\t6416\t3208\t5\t5\t51273000\t110\n"
     ]
    },
    {
     "name": "stderr",
     "output_type": "stream",
     "text": [
      "[mbo] 94: cp=-0.402; minsplit=6416; minbucket=3208; maxdepth=5 : y = 5.13e+07 : 16.4 secs : infill_ei\n",
      "\n"
     ]
    },
    {
     "name": "stdout",
     "output_type": "stream",
     "text": [
      "20230415 012915\t-0.651419881073863\t7997\t3994\t3\t5\t50706000\t111\n"
     ]
    },
    {
     "name": "stderr",
     "output_type": "stream",
     "text": [
      "[mbo] 95: cp=-0.651; minsplit=7997; minbucket=3994; maxdepth=3 : y = 5.07e+07 : 12.0 secs : infill_ei\n",
      "\n"
     ]
    },
    {
     "name": "stdout",
     "output_type": "stream",
     "text": [
      "20230415 012938\t-0.336000594965074\t7995\t3996\t20\t5\t50706000\t112\n"
     ]
    },
    {
     "name": "stderr",
     "output_type": "stream",
     "text": [
      "[mbo] 96: cp=-0.336; minsplit=7995; minbucket=3996; maxdepth=20 : y = 5.07e+07 : 22.1 secs : infill_ei\n",
      "\n"
     ]
    },
    {
     "name": "stdout",
     "output_type": "stream",
     "text": [
      "20230415 013002\t-0.700208042700406\t8000\t4000\t20\t5\t50706000\t113\n"
     ]
    },
    {
     "name": "stderr",
     "output_type": "stream",
     "text": [
      "[mbo] 97: cp=-0.7; minsplit=8000; minbucket=4000; maxdepth=20 : y = 5.07e+07 : 22.1 secs : infill_ei\n",
      "\n"
     ]
    },
    {
     "name": "stdout",
     "output_type": "stream",
     "text": [
      "20230415 013031\t-0.789036670354165\t4143\t2062\t20\t5\t50559000\t114\n"
     ]
    },
    {
     "name": "stderr",
     "output_type": "stream",
     "text": [
      "[mbo] 98: cp=-0.789; minsplit=4143; minbucket=2062; maxdepth=20 : y = 5.06e+07 : 26.7 secs : infill_ei\n",
      "\n"
     ]
    },
    {
     "name": "stdout",
     "output_type": "stream",
     "text": [
      "20230415 013059\t-0.403886347673691\t7883\t342\t12\t5\t52056000\t115\n"
     ]
    },
    {
     "name": "stderr",
     "output_type": "stream",
     "text": [
      "[mbo] 99: cp=-0.404; minsplit=7883; minbucket=342; maxdepth=12 : y = 5.21e+07 : 27.0 secs : infill_ei\n",
      "\n"
     ]
    },
    {
     "name": "stdout",
     "output_type": "stream",
     "text": [
      "20230415 013119\t-0.204189457192221\t7209\t296\t6\t5\t52056000\t116\n"
     ]
    },
    {
     "name": "stderr",
     "output_type": "stream",
     "text": [
      "[mbo] 100: cp=-0.204; minsplit=7209; minbucket=296; maxdepth=6 : y = 5.21e+07 : 18.6 secs : infill_ei\n",
      "\n",
      "Saved the final state in the file HT321.RDATA\n",
      "\n"
     ]
    }
   ],
   "source": [
    "#inicio la optimizacion bayesiana\n",
    "if( !file.exists( archivo_BO ) ) {\n",
    "\n",
    "  run  <- mbo( fun=     obj.fun, \n",
    "               learner= surr.km,\n",
    "               control= ctrl)\n",
    "\n",
    "} else  run  <- mboContinue( archivo_BO )   #retomo en caso que ya exista"
   ]
  }
 ],
 "metadata": {
  "kernelspec": {
   "display_name": "R",
   "language": "R",
   "name": "ir"
  },
  "language_info": {
   "codemirror_mode": "r",
   "file_extension": ".r",
   "mimetype": "text/x-r-source",
   "name": "R",
   "pygments_lexer": "r",
   "version": "4.2.1"
  },
  "orig_nbformat": 4
 },
 "nbformat": 4,
 "nbformat_minor": 2
}
